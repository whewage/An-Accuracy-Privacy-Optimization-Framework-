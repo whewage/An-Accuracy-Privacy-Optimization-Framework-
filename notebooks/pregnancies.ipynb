{
 "cells": [
  {
   "cell_type": "code",
   "execution_count": 1,
   "metadata": {},
   "outputs": [
    {
     "name": "stdout",
     "output_type": "stream",
     "text": [
      "Compiling ppdsp.classifier.base\n",
      "Compiling ppdsp.classifier.inspectablearf\n",
      "Compiling ppdsp.classifier.moa-classifier\n",
      "Compiling ppdsp.classifier.random\n",
      "Compiling ppdsp.core\n",
      "Compiling ppdsp.dataset.base\n",
      "Compiling ppdsp.dataset.csv-dataset\n",
      "Compiling ppdsp.dataset.moa\n",
      "Compiling ppdsp.dataset.save-csv\n",
      "Compiling ppdsp.masking.attack-data\n",
      "Compiling ppdsp.masking.base\n",
      "Compiling ppdsp.masking.evaluation\n",
      "Compiling ppdsp.masking.optimize\n",
      "Compiling ppdsp.masking.projection\n",
      "Compiling ppdsp.masking.single-stage-cumulative-attack\n",
      "Compiling ppdsp.masking.two-stage-cumulative-attack\n",
      "Compiling ppdsp.masking.two-stage-independent-attack\n",
      "Compiling ppdsp.masking.utils\n",
      "Compiling ppdsp.training\n",
      "Compiling ppdsp.utils.complex-numbers\n",
      "Compiling ppdsp.utils.matrices\n",
      "Compiling ppdsp.utils.moving-average\n",
      "Compiling ppdsp.utils.random\n",
      "Compiling ppdsp.utils.stats\n",
      "Compiling ppdsp.utils.timing\n",
      "Compiling ppdsp.utils\n",
      "Created /home/beakerx/ppdsp/target/jvm/uberjar/ppdsp-0.1.0-SNAPSHOT.jar\n",
      "Created /home/beakerx/ppdsp/target/jvm/uberjar/ppdsp-0.1.0-SNAPSHOT-standalone.jar\n",
      "\n"
     ]
    }
   ],
   "source": [
    "%%bash\n",
    "lein uberjar"
   ]
  },
  {
   "cell_type": "code",
   "execution_count": 2,
   "metadata": {},
   "outputs": [
    {
     "data": {
      "application/vnd.jupyter.widget-view+json": {
       "model_id": "69dd0391-8509-4a83-b4a0-5ced94f73cfe",
       "version_major": 2,
       "version_minor": 0
      },
      "method": "display_data"
     },
     "metadata": {},
     "output_type": "display_data"
    },
    {
     "data": {
      "text/plain": [
       "null"
      ]
     },
     "execution_count": 2,
     "metadata": {},
     "output_type": "execute_result"
    }
   ],
   "source": [
    " %classpath add jar ../target/jvm/uberjar/ppdsp-0.1.0-SNAPSHOT-standalone.jar\n",
    "(clojure.lang.Compiler/loadFile \"jupyter_helpers.clj\")\n",
    "(require '[clojure.string :as string]\n",
    "         '[clojure.pprint :refer [pprint print-table]]\n",
    "         '[jupyter-helpers :refer [save-data load-data display-table\n",
    "                                   display-masking-error-plots run-masking-experiments\n",
    "                                   attack-strategy-comparison-plots\n",
    "                                   noise-accuracy-plot accuracy-privacy-tradeoff-comparison\n",
    "                                   display-html accuracy-privacy-tradeoff-legend\n",
    "                                   accuracy-privacy-tradeoff attack-strategy-comparison\n",
    "                                   round-known-record-counts]]\n",
    "         '[ppdsp.classifier.moa-classifier :refer [adaptive-random-forest]]\n",
    "         '[ppdsp.dataset.base :refer [dataset-feature-count dataset-record-count]]\n",
    "         '[ppdsp.dataset.csv-dataset :refer [read-csv-dataset]]\n",
    "         '[ppdsp.masking.evaluation :refer [flatten-masking-experiment-recoveries\n",
    "                                           unknown-record-relative-position\n",
    "                                           add-combined-result\n",
    "                                           get-cumulative-noise-sigma]]\n",
    "         '[ppdsp.utils :refer [map-vals mean]])"
   ]
  },
  {
   "cell_type": "markdown",
   "metadata": {},
   "source": [
    "## Experiment Configuration"
   ]
  },
  {
   "cell_type": "code",
   "execution_count": 3,
   "metadata": {},
   "outputs": [
    {
     "data": {
      "text/plain": [
       "#'beaker_clojure_shell_9df8b47f-db66-4326-9b32-158fb6681c55/dataset"
      ]
     },
     "execution_count": 3,
     "metadata": {},
     "output_type": "execute_result"
    }
   ],
   "source": [
    "(def dataset-label \"pregnancies\")\n",
    "(def dataset (read-csv-dataset \"datasets/pregnancies/pregnancies.csv\"\n",
    "                                99999999 ;; All records\n",
    "                                ;; Numeric features\n",
    "                                [\"parity\" \"agecon\" \"pregordr\" \"poverty\" \"educat\"]))"
   ]
  },
  {
   "cell_type": "code",
   "execution_count": 4,
   "metadata": {},
   "outputs": [
    {
     "data": {
      "text/plain": [
       "#'beaker_clojure_shell_9df8b47f-db66-4326-9b32-158fb6681c55/rp-only-configuration"
      ]
     },
     "execution_count": 4,
     "metadata": {},
     "output_type": "execute_result"
    }
   ],
   "source": [
    "(def epsilons [0.1 0.2])\n",
    "\n",
    "(def feature-count (dataset-feature-count dataset))\n",
    "(def record-count (dataset-record-count dataset))\n",
    "\n",
    "(def independent-noise-sigmas [0.05 0.1 0.25])\n",
    "(def cumulative-noise-sigmas (map #(get-cumulative-noise-sigma % record-count) independent-noise-sigmas))\n",
    "\n",
    "(def base-configuration\n",
    "    {:dataset dataset\n",
    "     :projection-feature-counts [feature-count]\n",
    "     :projection-sigmas [1.0]\n",
    "     :translations [0]\n",
    "     :known-record-counts (distinct [(dec feature-count) (int (Math/ceil (/ feature-count 2))) 1])\n",
    "     :known-record-ranges [1]\n",
    "     :classifier-fns {:arf adaptive-random-forest}\n",
    "     :attack-count 500\n",
    "     :attempt-count 3\n",
    "     :threads-per-configuration 4\n",
    "     :threads-per-evaluation 1\n",
    "     :seed 1\n",
    "     :evaluations [:privacy :accuracy]})\n",
    "\n",
    "(def cumulative-noise-configuration\n",
    "    (merge base-configuration\n",
    "           {:output-file (str \"workspace/\" dataset-label \"/cumulative.edn\")\n",
    "            :independent-noise-sigmas [0.0]\n",
    "            :cumulative-noise-sigmas cumulative-noise-sigmas\n",
    "            :attack-strategies [:a-rp :a-rpcn :a-rpcn-1]}))\n",
    "\n",
    "(def independent-noise-configuration\n",
    "    (merge base-configuration\n",
    "           {:output-file (str \"workspace/\" dataset-label \"/independent.edn\")\n",
    "            :independent-noise-sigmas independent-noise-sigmas\n",
    "            :cumulative-noise-sigmas [0.0]\n",
    "            :attack-strategies [:a-rp :a-rpin :a-rpin-1]}))\n",
    "\n",
    "(def rp-only-configuration\n",
    "    (merge base-configuration\n",
    "           {:output-file (str \"workspace/\" dataset-label \"/rp-only.edn\")\n",
    "            :independent-noise-sigmas [0.0]\n",
    "            :cumulative-noise-sigmas [0.0]\n",
    "            :attack-strategies [:a-rp]}))"
   ]
  },
  {
   "cell_type": "markdown",
   "metadata": {},
   "source": [
    "## Run Experiments"
   ]
  },
  {
   "cell_type": "code",
   "execution_count": 5,
   "metadata": {},
   "outputs": [
    {
     "name": "stdout",
     "output_type": "stream",
     "text": [
      "Starting: privacy-evaluation-pf5-ps1.0-is0.0-cs0.005868343106755962-tr0-krc4-krr1-krrp:middle\n",
      "Starting: privacy-evaluation-pf5-ps1.0-is0.0-cs0.0023473372427023852-tr0-krc4-krr1-krrp:middle\n",
      "Starting: privacy-evaluation-pf5-ps1.0-is0.0-cs0.0011736686213511926-tr0-krc4-krr1-krrp:middle\n"
     ]
    },
    {
     "name": "stderr",
     "output_type": "stream",
     "text": [
      "Aug 10, 2019 1:02:11 AM com.github.fommil.jni.JniLoader liberalLoad\n",
      "INFO: successfully loaded /tmp/jniloader3396934109359994073netlib-native_system-linux-x86_64.so\n"
     ]
    },
    {
     "name": "stdout",
     "output_type": "stream",
     "text": [
      "Starting: privacy-evaluation-pf5-ps1.0-is0.0-cs0.0011736686213511926-tr0-krc3-krr1-krrp:middle\n",
      "Starting: privacy-evaluation-pf5-ps1.0-is0.0-cs0.0023473372427023852-tr0-krc3-krr1-krrp:middle\n",
      "Starting: privacy-evaluation-pf5-ps1.0-is0.0-cs0.005868343106755962-tr0-krc3-krr1-krrp:middle\n",
      "Starting: privacy-evaluation-pf5-ps1.0-is0.0-cs0.0011736686213511926-tr0-krc1-krr1-krrp:middle\n",
      "Starting: privacy-evaluation-pf5-ps1.0-is0.0-cs0.0023473372427023852-tr0-krc1-krr1-krrp:middle\n",
      "Starting: privacy-evaluation-pf5-ps1.0-is0.0-cs0.005868343106755962-tr0-krc1-krr1-krrp:middle\n",
      "\"Elapsed time: 592869.2575 msecs\"\n"
     ]
    },
    {
     "data": {
      "text/plain": [
       "null"
      ]
     },
     "execution_count": 5,
     "metadata": {},
     "output_type": "execute_result"
    }
   ],
   "source": [
    "(run-masking-experiments cumulative-noise-configuration)"
   ]
  },
  {
   "cell_type": "code",
   "execution_count": 6,
   "metadata": {},
   "outputs": [
    {
     "name": "stdout",
     "output_type": "stream",
     "text": [
      "Starting: privacy-evaluation-pf5-ps1.0-is0.25-cs0.0-tr0-krc4-krr1-krrp:middle\n",
      "Starting: privacy-evaluation-pf5-ps1.0-is0.05-cs0.0-tr0-krc4-krr1-krrp:middle\n",
      "Starting: privacy-evaluation-pf5-ps1.0-is0.1-cs0.0-tr0-krc4-krr1-krrp:middle\n",
      "Starting: privacy-evaluation-pf5-ps1.0-is0.05-cs0.0-tr0-krc3-krr1-krrp:middle\n",
      "Starting: privacy-evaluation-pf5-ps1.0-is0.1-cs0.0-tr0-krc3-krr1-krrp:middle\n",
      "Starting: privacy-evaluation-pf5-ps1.0-is0.25-cs0.0-tr0-krc3-krr1-krrp:middle\n",
      "Starting: privacy-evaluation-pf5-ps1.0-is0.05-cs0.0-tr0-krc1-krr1-krrp:middle\n",
      "Starting: privacy-evaluation-pf5-ps1.0-is0.1-cs0.0-tr0-krc1-krr1-krrp:middle\n",
      "Starting: privacy-evaluation-pf5-ps1.0-is0.25-cs0.0-tr0-krc1-krr1-krrp:middle\n",
      "\"Elapsed time: 716991.2344 msecs\"\n"
     ]
    },
    {
     "data": {
      "text/plain": [
       "null"
      ]
     },
     "execution_count": 6,
     "metadata": {},
     "output_type": "execute_result"
    }
   ],
   "source": [
    "(run-masking-experiments independent-noise-configuration)"
   ]
  },
  {
   "cell_type": "code",
   "execution_count": 7,
   "metadata": {},
   "outputs": [
    {
     "name": "stdout",
     "output_type": "stream",
     "text": [
      "Starting: privacy-evaluation-pf5-ps1.0-is0.0-cs0.0-tr0-krc4-krr1-krrp:middle\n",
      "Starting: privacy-evaluation-pf5-ps1.0-is0.0-cs0.0-tr0-krc3-krr1-krrp:middle\n",
      "Starting: privacy-evaluation-pf5-ps1.0-is0.0-cs0.0-tr0-krc1-krr1-krrp:middle\n",
      "\"Elapsed time: 29205.96 msecs\"\n"
     ]
    },
    {
     "data": {
      "text/plain": [
       "null"
      ]
     },
     "execution_count": 7,
     "metadata": {},
     "output_type": "execute_result"
    }
   ],
   "source": [
    "(run-masking-experiments rp-only-configuration)"
   ]
  },
  {
   "cell_type": "markdown",
   "metadata": {},
   "source": [
    "## Load and Extend Experiment Results"
   ]
  },
  {
   "cell_type": "code",
   "execution_count": 1,
   "metadata": {},
   "outputs": [
    {
     "ename": "java.lang.RuntimeException",
     "evalue": " Unable to resolve symbol",
     "output_type": "error",
     "traceback": [
      "\u001b[1;31mjava.lang.RuntimeException: Unable to resolve symbol: load-data in this context\u001b[0;0m",
      "\u001b[1;31m\tat clojure.lang.Util.runtimeException(Util.java:221)\u001b[0;0m",
      "\u001b[1;31m\tat clojure.lang.Compiler.resolveIn(Compiler.java:7299)\u001b[0;0m",
      "\u001b[1;31m\tat clojure.lang.Compiler.resolve(Compiler.java:7243)\u001b[0;0m",
      "\u001b[1;31m\tat clojure.lang.Compiler.analyzeSymbol(Compiler.java:7204)\u001b[0;0m",
      "\u001b[1;31m\tat clojure.lang.Compiler.analyze(Compiler.java:6752)\u001b[0;0m",
      "\u001b[1;31m\tat clojure.lang.Compiler.analyze(Compiler.java:6729)\u001b[0;0m",
      "\u001b[1;31m\tat clojure.lang.Compiler$InvokeExpr.parse(Compiler.java:3813)\u001b[0;0m",
      "\u001b[1;31m\tat clojure.lang.Compiler.analyzeSeq(Compiler.java:7005)\u001b[0;0m",
      "\u001b[1;31m\tat clojure.lang.Compiler.analyze(Compiler.java:6773)\u001b[0;0m",
      "\u001b[1;31m\tat clojure.lang.Compiler.access$300(Compiler.java:38)\u001b[0;0m",
      "\u001b[1;31m\tat clojure.lang.Compiler$DefExpr$Parser.parse(Compiler.java:595)\u001b[0;0m",
      "\u001b[1;31m\tat clojure.lang.Compiler.analyzeSeq(Compiler.java:7003)\u001b[0;0m",
      "\u001b[1;31m\tat clojure.lang.Compiler.analyze(Compiler.java:6773)\u001b[0;0m",
      "\u001b[1;31m\tat clojure.lang.Compiler.analyze(Compiler.java:6729)\u001b[0;0m",
      "\u001b[1;31m\tat clojure.lang.Compiler.eval(Compiler.java:7066)\u001b[0;0m",
      "\u001b[1;31m\tat clojure.lang.Compiler.load(Compiler.java:7514)\u001b[0;0m",
      "\u001b[1;31m\tat clojure.lang.Compiler.load(Compiler.java:7461)\u001b[0;0m",
      "\u001b[1;31m\tat clojure.core$load_reader.invokeStatic(core.clj:4053)\u001b[0;0m",
      "\u001b[1;31m\tat clojure.core$load_string.invokeStatic(core.clj:4055)\u001b[0;0m",
      "\u001b[1;31m\tat clojure.core$load_string.invoke(core.clj:4055)\u001b[0;0m",
      "\u001b[1;31m\tat beaker_clojure_shell_2a034899_7794_45a7_8dc1_7e47c6209e28$run_str_2a034899_7794_45a7_8dc1_7e47c6209e28.invokeStatic(Unknown Source)\u001b[0;0m",
      "\u001b[1;31m\tat beaker_clojure_shell_2a034899_7794_45a7_8dc1_7e47c6209e28$run_str_2a034899_7794_45a7_8dc1_7e47c6209e28.invoke(Unknown Source)\u001b[0;0m",
      "\u001b[1;31m\tat clojure.lang.Var.invoke(Var.java:381)\u001b[0;0m",
      "\u001b[0;31m\tat com.twosigma.beakerx.clojure.evaluator.ClojureEvaluator.runCode(ClojureEvaluator.java:168)\u001b[0;0m",
      "\u001b[0;31m\tat com.twosigma.beakerx.clojure.evaluator.ClojureCodeRunner.call(ClojureCodeRunner.java:47)\u001b[0;0m",
      "\u001b[0;31m\tat com.twosigma.beakerx.clojure.evaluator.ClojureCodeRunner.call(ClojureCodeRunner.java:28)\u001b[0;0m",
      "\u001b[0;31m\tat java.util.concurrent.FutureTask.run(FutureTask.java:266)\u001b[0;0m",
      "\u001b[0;31m\tat java.lang.Thread.run(Thread.java:745)\u001b[0;0m"
     ]
    }
   ],
   "source": [
    "(def output-cumulative (load-data (:output-file cumulative-noise-configuration)))\n",
    "(def original-accuracy-cumulative (-> output-cumulative :original :accuracy))\n",
    "(def results-cumulative (-> (filter #(contains? (set cumulative-noise-sigmas) (:cumulative-noise-sigma %))\n",
    "                                    (:results output-cumulative))\n",
    "                            (add-combined-result :score [:a-rp :a-rpcn])\n",
    "                            (add-combined-result :score [:a-rp :a-rpcn-1])))\n",
    "(def flat-results-cumulative (->> results-cumulative\n",
    "                                  flatten-masking-experiment-recoveries\n",
    "                                  (map #(assoc % :unknown-record-relative-position (unknown-record-relative-position %)))))"
   ]
  },
  {
   "cell_type": "code",
   "execution_count": 9,
   "metadata": {},
   "outputs": [
    {
     "data": {
      "text/plain": [
       "#'beaker_clojure_shell_9df8b47f-db66-4326-9b32-158fb6681c55/flat-results-independent"
      ]
     },
     "execution_count": 9,
     "metadata": {},
     "output_type": "execute_result"
    }
   ],
   "source": [
    "(def output-independent (load-data (:output-file independent-noise-configuration)))\n",
    "(def original-accuracy-independent (-> output-independent :original :accuracy))\n",
    "(def results-independent (-> (filter #(contains? (set independent-noise-sigmas) (:independent-noise-sigma %))\n",
    "                                     (:results output-independent))\n",
    "                             (add-combined-result :score [:a-rp :a-rpin])\n",
    "                             (add-combined-result :score [:a-rp :a-rpin-1])))\n",
    "(def flat-results-independent (->> results-independent\n",
    "                                   flatten-masking-experiment-recoveries\n",
    "                                   (map #(assoc % :unknown-record-relative-position (unknown-record-relative-position %)))))"
   ]
  },
  {
   "cell_type": "code",
   "execution_count": 10,
   "metadata": {},
   "outputs": [
    {
     "data": {
      "text/plain": [
       "#'beaker_clojure_shell_9df8b47f-db66-4326-9b32-158fb6681c55/flat-results-rp-only"
      ]
     },
     "execution_count": 10,
     "metadata": {},
     "output_type": "execute_result"
    }
   ],
   "source": [
    "(def output-rp-only (load-data (:output-file rp-only-configuration)))\n",
    "(def original-accuracy-rp-only (-> output-rp-only :original :accuracy))\n",
    "(def results-rp-only (-> (:results output-rp-only)))\n",
    "(def flat-results-rp-only (->> results-rp-only\n",
    "                               flatten-masking-experiment-recoveries\n",
    "                               (map #(assoc % :unknown-record-relative-position (unknown-record-relative-position %)))))"
   ]
  },
  {
   "cell_type": "markdown",
   "metadata": {},
   "source": [
    "## Comparison of Attack Strategies"
   ]
  },
  {
   "cell_type": "code",
   "execution_count": 11,
   "metadata": {
    "scrolled": false
   },
   "outputs": [
    {
     "data": {
      "application/vnd.jupyter.widget-view+json": {
       "model_id": "1e8e80f2-d360-4b36-960d-bbfebc7ec275",
       "version_major": 2,
       "version_minor": 0
      },
      "method": "display_data"
     },
     "metadata": {},
     "output_type": "display_data"
    },
    {
     "data": {
      "application/vnd.jupyter.widget-view+json": {
       "model_id": "b4526b6b-b0bd-49b2-bcd8-661ee40d37a4",
       "version_major": 2,
       "version_minor": 0
      },
      "method": "display_data"
     },
     "metadata": {},
     "output_type": "display_data"
    },
    {
     "data": {
      "application/vnd.jupyter.widget-view+json": {
       "model_id": "4d1cfb10-662d-4360-b7af-a64c9504bcf5",
       "version_major": 2,
       "version_minor": 0
      },
      "method": "display_data"
     },
     "metadata": {},
     "output_type": "display_data"
    },
    {
     "data": {
      "application/vnd.jupyter.widget-view+json": {
       "model_id": "275dfe14-478d-47bc-9345-f910ab175156",
       "version_major": 2,
       "version_minor": 0
      },
      "method": "display_data"
     },
     "metadata": {},
     "output_type": "display_data"
    },
    {
     "data": {
      "application/vnd.jupyter.widget-view+json": {
       "model_id": "31f59ec4-038a-4895-ad31-094757d33c92",
       "version_major": 2,
       "version_minor": 0
      },
      "method": "display_data"
     },
     "metadata": {},
     "output_type": "display_data"
    },
    {
     "data": {
      "application/vnd.jupyter.widget-view+json": {
       "model_id": "5116193a-980e-4e08-9c8e-1d9c6410249b",
       "version_major": 2,
       "version_minor": 0
      },
      "method": "display_data"
     },
     "metadata": {},
     "output_type": "display_data"
    },
    {
     "data": {
      "application/vnd.jupyter.widget-view+json": {
       "model_id": "28bb14fc-4285-413f-b85b-de232018f820",
       "version_major": 2,
       "version_minor": 0
      },
      "method": "display_data"
     },
     "metadata": {},
     "output_type": "display_data"
    },
    {
     "data": {
      "application/vnd.jupyter.widget-view+json": {
       "model_id": "4e0cb57b-8e30-4965-b678-5f295946d12e",
       "version_major": 2,
       "version_minor": 0
      },
      "method": "display_data"
     },
     "metadata": {},
     "output_type": "display_data"
    },
    {
     "data": {
      "text/plain": [
       "null"
      ]
     },
     "execution_count": 11,
     "metadata": {},
     "output_type": "execute_result"
    }
   ],
   "source": [
    "(doseq [epsilon epsilons]\n",
    "    (display-html (str \"<h3>Epsilon = \" epsilon \"</h3>\"))\n",
    "    (.display (attack-strategy-comparison-plots flat-results-cumulative :all epsilon\n",
    "                                                :plot-width 400\n",
    "                                                :plot-height 400\n",
    "                                                :show-legend? true))\n",
    "    (display-html (str \"<h4>Breakdown by noise amount</h4>\"))\n",
    "    (.display (attack-strategy-comparison-plots flat-results-cumulative :cumulative-noise-sigma epsilon\n",
    "                                                :plot-width 400\n",
    "                                                :plot-height 400\n",
    "                                                :show-legend? false)))"
   ]
  },
  {
   "cell_type": "code",
   "execution_count": 12,
   "metadata": {
    "scrolled": false
   },
   "outputs": [
    {
     "data": {
      "application/vnd.jupyter.widget-view+json": {
       "model_id": "3b30db48-2511-4bfc-bc22-57c4fcd5c84e",
       "version_major": 2,
       "version_minor": 0
      },
      "method": "display_data"
     },
     "metadata": {},
     "output_type": "display_data"
    },
    {
     "data": {
      "application/vnd.jupyter.widget-view+json": {
       "model_id": "b4c1e060-6133-43a8-9b54-fe7786b16929",
       "version_major": 2,
       "version_minor": 0
      },
      "method": "display_data"
     },
     "metadata": {},
     "output_type": "display_data"
    },
    {
     "data": {
      "application/vnd.jupyter.widget-view+json": {
       "model_id": "61274b1e-9b19-4f88-9206-158990104ff5",
       "version_major": 2,
       "version_minor": 0
      },
      "method": "display_data"
     },
     "metadata": {},
     "output_type": "display_data"
    },
    {
     "data": {
      "application/vnd.jupyter.widget-view+json": {
       "model_id": "6ecd155e-6c86-4a70-a259-748ef344838b",
       "version_major": 2,
       "version_minor": 0
      },
      "method": "display_data"
     },
     "metadata": {},
     "output_type": "display_data"
    },
    {
     "data": {
      "application/vnd.jupyter.widget-view+json": {
       "model_id": "3851f152-944a-43fd-bc5d-9d708cbdd395",
       "version_major": 2,
       "version_minor": 0
      },
      "method": "display_data"
     },
     "metadata": {},
     "output_type": "display_data"
    },
    {
     "data": {
      "application/vnd.jupyter.widget-view+json": {
       "model_id": "e32b372f-b07b-408a-a156-f93887d1ce63",
       "version_major": 2,
       "version_minor": 0
      },
      "method": "display_data"
     },
     "metadata": {},
     "output_type": "display_data"
    },
    {
     "data": {
      "application/vnd.jupyter.widget-view+json": {
       "model_id": "60392850-b9ae-4b0a-b607-ff95e2a0cbcb",
       "version_major": 2,
       "version_minor": 0
      },
      "method": "display_data"
     },
     "metadata": {},
     "output_type": "display_data"
    },
    {
     "data": {
      "application/vnd.jupyter.widget-view+json": {
       "model_id": "f848a523-f143-4d9e-abc0-cfd5847a12af",
       "version_major": 2,
       "version_minor": 0
      },
      "method": "display_data"
     },
     "metadata": {},
     "output_type": "display_data"
    },
    {
     "data": {
      "text/plain": [
       "null"
      ]
     },
     "execution_count": 12,
     "metadata": {},
     "output_type": "execute_result"
    }
   ],
   "source": [
    "(doseq [epsilon epsilons]\n",
    "    (display-html (str \"<h3>Epsilon = \" epsilon \"</h3>\"))\n",
    "    (.display (attack-strategy-comparison-plots flat-results-independent :all epsilon\n",
    "                                                :plot-width 400\n",
    "                                                :plot-height 400\n",
    "                                                :show-legend? true))\n",
    "    (display-html (str \"<h4>Breakdown by noise amount</h4>\"))\n",
    "    (.display (attack-strategy-comparison-plots flat-results-independent :independent-noise-sigma epsilon\n",
    "                                                :plot-width 400\n",
    "                                                :plot-height 400\n",
    "                                                :show-legend? false)))"
   ]
  },
  {
   "cell_type": "code",
   "execution_count": 13,
   "metadata": {},
   "outputs": [
    {
     "data": {
      "application/vnd.jupyter.widget-view+json": {
       "model_id": "f185b73c-3b48-4a27-9c1d-bd7a0dc20f44",
       "version_major": 2,
       "version_minor": 0
      },
      "method": "display_data"
     },
     "metadata": {},
     "output_type": "display_data"
    },
    {
     "data": {
      "text/plain": [
       "null"
      ]
     },
     "execution_count": 13,
     "metadata": {},
     "output_type": "execute_result"
    }
   ],
   "source": [
    "(let [comparison (attack-strategy-comparison flat-results-cumulative epsilons\n",
    "                                  :known-record-count (apply max (:known-record-counts base-configuration)))]\n",
    "    (save-data (str \"workspace/\" dataset-label \"/cumulative-attack-strategies-comparison.edn\") comparison)\n",
    "    (display-table comparison))"
   ]
  },
  {
   "cell_type": "code",
   "execution_count": 14,
   "metadata": {},
   "outputs": [
    {
     "data": {
      "application/vnd.jupyter.widget-view+json": {
       "model_id": "40c860cc-edcd-4f1c-af52-7f89e99a6a62",
       "version_major": 2,
       "version_minor": 0
      },
      "method": "display_data"
     },
     "metadata": {},
     "output_type": "display_data"
    },
    {
     "data": {
      "text/plain": [
       "null"
      ]
     },
     "execution_count": 14,
     "metadata": {},
     "output_type": "execute_result"
    }
   ],
   "source": [
    "(let [comparison (attack-strategy-comparison flat-results-independent epsilons\n",
    "                                  :known-record-count (apply max (:known-record-counts base-configuration)))]\n",
    "    (save-data (str \"workspace/\" dataset-label \"/independent-attack-strategies-comparison.edn\") comparison)\n",
    "    (display-table comparison))"
   ]
  },
  {
   "cell_type": "code",
   "execution_count": 15,
   "metadata": {},
   "outputs": [
    {
     "data": {
      "text/plain": [
       "#'beaker_clojure_shell_9df8b47f-db66-4326-9b32-158fb6681c55/best-independent-attack-strategy"
      ]
     },
     "execution_count": 15,
     "metadata": {},
     "output_type": "execute_result"
    }
   ],
   "source": [
    "(def best-cumulative-attack-strategy :a-rpcn-1)\n",
    "(def best-independent-attack-strategy :a-rpin-1)"
   ]
  },
  {
   "cell_type": "markdown",
   "metadata": {},
   "source": [
    "## Cumulative vs. Independent Noise"
   ]
  },
  {
   "cell_type": "code",
   "execution_count": 16,
   "metadata": {},
   "outputs": [
    {
     "data": {
      "application/vnd.jupyter.widget-view+json": {
       "model_id": "78598978-5716-4b8b-af1e-37d003e15748",
       "version_major": 2,
       "version_minor": 0
      },
      "method": "display_data"
     },
     "metadata": {},
     "output_type": "display_data"
    },
    {
     "data": {
      "text/plain": [
       "null"
      ]
     },
     "execution_count": 16,
     "metadata": {},
     "output_type": "execute_result"
    }
   ],
   "source": [
    "(display-html (accuracy-privacy-tradeoff-legend independent-noise-sigmas cumulative-noise-sigmas))\n",
    "nil"
   ]
  },
  {
   "cell_type": "code",
   "execution_count": 17,
   "metadata": {
    "scrolled": false
   },
   "outputs": [
    {
     "data": {
      "application/vnd.jupyter.widget-view+json": {
       "model_id": "8cc06a49-064f-40f6-97cb-bfe107f8b386",
       "version_major": 2,
       "version_minor": 0
      },
      "method": "display_data"
     },
     "metadata": {},
     "output_type": "display_data"
    },
    {
     "data": {
      "application/vnd.jupyter.widget-view+json": {
       "model_id": "fa71a9ba-a5b5-42a4-97a1-d164a35f596a",
       "version_major": 2,
       "version_minor": 0
      },
      "method": "display_data"
     },
     "metadata": {},
     "output_type": "display_data"
    },
    {
     "data": {
      "text/plain": [
       "null"
      ]
     },
     "execution_count": 17,
     "metadata": {},
     "output_type": "execute_result"
    }
   ],
   "source": [
    "(doseq [epsilon epsilons]\n",
    "    (.display (accuracy-privacy-tradeoff-comparison results-cumulative results-independent results-rp-only\n",
    "                                                    :arf best-cumulative-attack-strategy best-independent-attack-strategy epsilon\n",
    "                                                    :plot-width 400\n",
    "                                                    :plot-height 400)))"
   ]
  },
  {
   "cell_type": "markdown",
   "metadata": {},
   "source": [
    "### Comparison of Square Distance From Origin\n",
    "\n",
    "Performance is the sum of the squares of: (1) Prob. of e-privacy breach and (2) classification error."
   ]
  },
  {
   "cell_type": "code",
   "execution_count": 18,
   "metadata": {},
   "outputs": [
    {
     "data": {
      "application/vnd.jupyter.widget-view+json": {
       "model_id": "9358bd0b-13e6-483a-994e-2a8ac79165be",
       "version_major": 2,
       "version_minor": 0
      },
      "method": "display_data"
     },
     "metadata": {},
     "output_type": "display_data"
    },
    {
     "data": {
      "text/plain": [
       "null"
      ]
     },
     "execution_count": 18,
     "metadata": {},
     "output_type": "execute_result"
    }
   ],
   "source": [
    "(let [comparison (accuracy-privacy-tradeoff results-cumulative results-independent results-rp-only\n",
    "                               :arf best-cumulative-attack-strategy best-independent-attack-strategy epsilons\n",
    "                               :square-distance? true\n",
    "                               :row-per-noise-level? true\n",
    "                               :known-record-count (apply max (:known-record-counts base-configuration)))]\n",
    "    (save-data (str \"workspace/\" dataset-label \"/mask-comparison.edn\") comparison)\n",
    "    (display-table comparison))"
   ]
  },
  {
   "cell_type": "markdown",
   "metadata": {},
   "source": [
    "## Effect of Cumulative Noise on Accuracy over Time"
   ]
  },
  {
   "cell_type": "code",
   "execution_count": 19,
   "metadata": {},
   "outputs": [
    {
     "data": {
      "application/vnd.jupyter.widget-view+json": {
       "model_id": "9289d45e-1d62-4097-bec7-24182685aa6a",
       "version_major": 2,
       "version_minor": 0
      },
      "method": "display_data"
     },
     "metadata": {},
     "output_type": "display_data"
    }
   ],
   "source": [
    "(noise-accuracy-plot results-cumulative results-independent results-rp-only :arf\n",
    "                     :init-width 800\n",
    "                     :init-height 400)"
   ]
  },
  {
   "cell_type": "markdown",
   "metadata": {},
   "source": [
    "## Effect of Cumulative Noise on Privacy over Time"
   ]
  },
  {
   "cell_type": "code",
   "execution_count": 20,
   "metadata": {},
   "outputs": [
    {
     "data": {
      "application/vnd.jupyter.widget-view+json": {
       "model_id": "a4074614-8a48-4938-8dc7-9d3fbc325ec8",
       "version_major": 2,
       "version_minor": 0
      },
      "method": "display_data"
     },
     "metadata": {},
     "output_type": "display_data"
    }
   ],
   "source": [
    "(display-masking-error-plots (->> flat-results-cumulative\n",
    "                                  (filter #(= best-cumulative-attack-strategy (:strategy %)))\n",
    "                                  (filter #(= (apply max cumulative-noise-sigmas) (:cumulative-noise-sigma %)))\n",
    "                                  (filter #(= (apply max (:known-record-counts base-configuration)) (:known-record-count %))))\n",
    "                             :cumulative-noise-sigma :known-record-count :strategy\n",
    "                             :plot-width 500\n",
    "                             :plot-height 500)"
   ]
  },
  {
   "cell_type": "code",
   "execution_count": null,
   "metadata": {},
   "outputs": [],
   "source": []
  }
 ],
 "metadata": {
  "kernelspec": {
   "display_name": "Clojure",
   "language": "clojure",
   "name": "clojure"
  },
  "language_info": {
   "codemirror_mode": "Clojure",
   "file_extension": ".clj",
   "mimetype": "text/x-clojure",
   "name": "Clojure",
   "nbconverter_exporter": "",
   "version": "1.9.0"
  },
  "toc": {
   "base_numbering": 1,
   "nav_menu": {},
   "number_sections": false,
   "sideBar": false,
   "skip_h1_title": false,
   "title_cell": "Table of Contents",
   "title_sidebar": "Contents",
   "toc_cell": false,
   "toc_position": {},
   "toc_section_display": false,
   "toc_window_display": false
  }
 },
 "nbformat": 4,
 "nbformat_minor": 2
}
