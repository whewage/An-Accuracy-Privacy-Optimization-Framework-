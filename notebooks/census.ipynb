{
 "cells": [
  {
   "cell_type": "code",
   "execution_count": 1,
   "metadata": {},
   "outputs": [
    {
     "name": "stdout",
     "output_type": "stream",
     "text": [
      "Compiling ppdsp.classifier.base\n",
      "Compiling ppdsp.classifier.inspectablearf\n",
      "Compiling ppdsp.classifier.moa-classifier\n",
      "Compiling ppdsp.classifier.random\n",
      "Compiling ppdsp.core\n",
      "Compiling ppdsp.dataset.base\n",
      "Compiling ppdsp.dataset.csv-dataset\n",
      "Compiling ppdsp.dataset.moa\n",
      "Compiling ppdsp.dataset.save-csv\n",
      "Compiling ppdsp.masking.attack-data\n",
      "Compiling ppdsp.masking.base\n",
      "Compiling ppdsp.masking.evaluation\n",
      "Compiling ppdsp.masking.optimize\n",
      "Compiling ppdsp.masking.projection\n",
      "Compiling ppdsp.masking.single-stage-cumulative-attack\n",
      "Compiling ppdsp.masking.two-stage-cumulative-attack\n",
      "Compiling ppdsp.masking.two-stage-independent-attack\n",
      "Compiling ppdsp.masking.utils\n",
      "Compiling ppdsp.training\n",
      "Compiling ppdsp.utils.complex-numbers\n",
      "Compiling ppdsp.utils.matrices\n",
      "Compiling ppdsp.utils.moving-average\n",
      "Compiling ppdsp.utils.random\n",
      "Compiling ppdsp.utils.stats\n",
      "Compiling ppdsp.utils.timing\n",
      "Compiling ppdsp.utils\n",
      "Created /home/beakerx/ppdsp/target/jvm/uberjar/ppdsp-0.1.0-SNAPSHOT.jar\n",
      "Created /home/beakerx/ppdsp/target/jvm/uberjar/ppdsp-0.1.0-SNAPSHOT-standalone.jar\n",
      "\n"
     ]
    }
   ],
   "source": [
    "%%bash\n",
    "lein uberjar"
   ]
  },
  {
   "cell_type": "code",
   "execution_count": 2,
   "metadata": {},
   "outputs": [
    {
     "data": {
      "application/vnd.jupyter.widget-view+json": {
       "model_id": "502bb4de-c67d-40e9-ac64-fc77226fbb7f",
       "version_major": 2,
       "version_minor": 0
      },
      "method": "display_data"
     },
     "metadata": {},
     "output_type": "display_data"
    },
    {
     "data": {
      "text/plain": [
       "null"
      ]
     },
     "execution_count": 2,
     "metadata": {},
     "output_type": "execute_result"
    }
   ],
   "source": [
    " %classpath add jar ../target/jvm/uberjar/ppdsp-0.1.0-SNAPSHOT-standalone.jar\n",
    "(clojure.lang.Compiler/loadFile \"jupyter_helpers.clj\")\n",
    "(require '[clojure.string :as string]\n",
    "         '[clojure.pprint :refer [pprint print-table]]\n",
    "         '[jupyter-helpers :refer [save-data load-data display-table\n",
    "                                   display-masking-error-plots run-masking-experiments\n",
    "                                   attack-strategy-comparison-plots\n",
    "                                   noise-accuracy-plot accuracy-privacy-tradeoff-comparison\n",
    "                                   display-html accuracy-privacy-tradeoff-legend\n",
    "                                   accuracy-privacy-tradeoff attack-strategy-comparison\n",
    "                                   round-known-record-counts]]\n",
    "         '[ppdsp.classifier.moa-classifier :refer [adaptive-random-forest]]\n",
    "         '[ppdsp.dataset.base :refer [dataset-feature-count dataset-record-count]]\n",
    "         '[ppdsp.dataset.csv-dataset :refer [read-csv-dataset]]\n",
    "         '[ppdsp.masking.evaluation :refer [flatten-masking-experiment-recoveries\n",
    "                                           unknown-record-relative-position\n",
    "                                           add-combined-result\n",
    "                                           get-cumulative-noise-sigma]]\n",
    "         '[ppdsp.utils :refer [map-vals mean]])"
   ]
  },
  {
   "cell_type": "markdown",
   "metadata": {},
   "source": [
    "## Experiment Configuration"
   ]
  },
  {
   "cell_type": "code",
   "execution_count": 3,
   "metadata": {},
   "outputs": [
    {
     "data": {
      "text/plain": [
       "#'beaker_clojure_shell_565a0a2f-14b1-4e4e-8101-dfec807c0224/dataset"
      ]
     },
     "execution_count": 3,
     "metadata": {},
     "output_type": "execute_result"
    }
   ],
   "source": [
    "(def dataset-label \"census\")\n",
    "(def dataset (read-csv-dataset \"datasets/census/adult-numeric.csv\"\n",
    "                                99999999 ;; All records\n",
    "                                ;; Numeric features\n",
    "                                [\"att1\" \"att3\" \"att5\" \"att11\" \"att12\" \"att13\"]))"
   ]
  },
  {
   "cell_type": "code",
   "execution_count": 4,
   "metadata": {},
   "outputs": [
    {
     "data": {
      "text/plain": [
       "#'beaker_clojure_shell_565a0a2f-14b1-4e4e-8101-dfec807c0224/rp-only-configuration"
      ]
     },
     "execution_count": 4,
     "metadata": {},
     "output_type": "execute_result"
    }
   ],
   "source": [
    "(def epsilons [0.1 0.2])\n",
    "\n",
    "(def feature-count (dataset-feature-count dataset))\n",
    "(def record-count (dataset-record-count dataset))\n",
    "\n",
    "(def independent-noise-sigmas [0.05 0.1 0.25])\n",
    "(def cumulative-noise-sigmas (map #(get-cumulative-noise-sigma % record-count) independent-noise-sigmas))\n",
    "\n",
    "(def base-configuration\n",
    "    {:dataset dataset\n",
    "     :projection-feature-counts [feature-count]\n",
    "     :projection-sigmas [1.0]\n",
    "     :translations [0]\n",
    "     :known-record-counts (distinct [(dec feature-count) (int (Math/ceil (/ feature-count 2))) 1])\n",
    "     :known-record-ranges [1]\n",
    "     :classifier-fns {:arf adaptive-random-forest}\n",
    "     :attack-count 500\n",
    "     :attempt-count 3\n",
    "     :threads-per-configuration 4\n",
    "     :threads-per-evaluation 1\n",
    "     :seed 1\n",
    "     :evaluations [:privacy :accuracy]})\n",
    "\n",
    "(def cumulative-noise-configuration\n",
    "    (merge base-configuration\n",
    "           {:output-file (str \"workspace/\" dataset-label \"/cumulative.edn\")\n",
    "            :independent-noise-sigmas [0.0]\n",
    "            :cumulative-noise-sigmas cumulative-noise-sigmas\n",
    "            :attack-strategies [:a-rp :a-rpcn :a-rpcn-1]}))\n",
    "\n",
    "(def independent-noise-configuration\n",
    "    (merge base-configuration\n",
    "           {:output-file (str \"workspace/\" dataset-label \"/independent.edn\")\n",
    "            :independent-noise-sigmas independent-noise-sigmas\n",
    "            :cumulative-noise-sigmas [0.0]\n",
    "            :attack-strategies [:a-rp :a-rpin :a-rpin-1]}))\n",
    "\n",
    "(def rp-only-configuration\n",
    "    (merge base-configuration\n",
    "           {:output-file (str \"workspace/\" dataset-label \"/rp-only.edn\")\n",
    "            :independent-noise-sigmas [0.0]\n",
    "            :cumulative-noise-sigmas [0.0]\n",
    "            :attack-strategies [:a-rp]}))"
   ]
  },
  {
   "cell_type": "markdown",
   "metadata": {},
   "source": [
    "## Run Experiments"
   ]
  },
  {
   "cell_type": "code",
   "execution_count": 5,
   "metadata": {},
   "outputs": [
    {
     "name": "stdout",
     "output_type": "stream",
     "text": [
      "Starting: privacy-evaluation-pf6-ps1.0-is0.0-cs0.0020781286047346116-tr0-krc5-krr1-krrp:middle\n",
      "Starting: privacy-evaluation-pf6-ps1.0-is0.0-cs8.312514418938447E-4-tr0-krc5-krr1-krrp:middle\n",
      "Starting: privacy-evaluation-pf6-ps1.0-is0.0-cs4.1562572094692237E-4-tr0-krc5-krr1-krrp:middle\n"
     ]
    },
    {
     "name": "stderr",
     "output_type": "stream",
     "text": [
      "Aug 12, 2019 2:41:30 AM com.github.fommil.jni.JniLoader liberalLoad\n",
      "INFO: successfully loaded /tmp/jniloader6614767704249451336netlib-native_system-linux-x86_64.so\n"
     ]
    },
    {
     "name": "stdout",
     "output_type": "stream",
     "text": [
      "Starting: privacy-evaluation-pf6-ps1.0-is0.0-cs4.1562572094692237E-4-tr0-krc3-krr1-krrp:middle\n",
      "Starting: privacy-evaluation-pf6-ps1.0-is0.0-cs8.312514418938447E-4-tr0-krc3-krr1-krrp:middle\n",
      "Starting: privacy-evaluation-pf6-ps1.0-is0.0-cs4.1562572094692237E-4-tr0-krc1-krr1-krrp:middle\n",
      "Starting: privacy-evaluation-pf6-ps1.0-is0.0-cs0.0020781286047346116-tr0-krc3-krr1-krrp:middle\n",
      "Starting: privacy-evaluation-pf6-ps1.0-is0.0-cs8.312514418938447E-4-tr0-krc1-krr1-krrp:middle\n",
      "Starting: privacy-evaluation-pf6-ps1.0-is0.0-cs0.0020781286047346116-tr0-krc1-krr1-krrp:middle\n",
      "\"Elapsed time: 1134762.1571 msecs\"\n"
     ]
    },
    {
     "data": {
      "text/plain": [
       "null"
      ]
     },
     "execution_count": 5,
     "metadata": {},
     "output_type": "execute_result"
    }
   ],
   "source": [
    "(run-masking-experiments cumulative-noise-configuration)"
   ]
  },
  {
   "cell_type": "code",
   "execution_count": 6,
   "metadata": {},
   "outputs": [
    {
     "name": "stdout",
     "output_type": "stream",
     "text": [
      "Starting: privacy-evaluation-pf6-ps1.0-is0.05-cs0.0-tr0-krc5-krr1-krrp:middle\n",
      "Starting: privacy-evaluation-pf6-ps1.0-is0.25-cs0.0-tr0-krc5-krr1-krrp:middle\n",
      "Starting: privacy-evaluation-pf6-ps1.0-is0.1-cs0.0-tr0-krc5-krr1-krrp:middle\n",
      "Starting: privacy-evaluation-pf6-ps1.0-is0.05-cs0.0-tr0-krc3-krr1-krrp:middle\n",
      "Starting: privacy-evaluation-pf6-ps1.0-is0.1-cs0.0-tr0-krc3-krr1-krrp:middle\n",
      "Starting: privacy-evaluation-pf6-ps1.0-is0.25-cs0.0-tr0-krc3-krr1-krrp:middle\n",
      "Starting: privacy-evaluation-pf6-ps1.0-is0.05-cs0.0-tr0-krc1-krr1-krrp:middle\n",
      "Starting: privacy-evaluation-pf6-ps1.0-is0.1-cs0.0-tr0-krc1-krr1-krrp:middle\n",
      "Starting: privacy-evaluation-pf6-ps1.0-is0.25-cs0.0-tr0-krc1-krr1-krrp:middle\n",
      "\"Elapsed time: 1296926.5066 msecs\"\n"
     ]
    },
    {
     "data": {
      "text/plain": [
       "null"
      ]
     },
     "execution_count": 6,
     "metadata": {},
     "output_type": "execute_result"
    }
   ],
   "source": [
    "(run-masking-experiments independent-noise-configuration)"
   ]
  },
  {
   "cell_type": "code",
   "execution_count": 7,
   "metadata": {},
   "outputs": [
    {
     "name": "stdout",
     "output_type": "stream",
     "text": [
      "Starting: privacy-evaluation-pf6-ps1.0-is0.0-cs0.0-tr0-krc5-krr1-krrp:middle\n",
      "Starting: privacy-evaluation-pf6-ps1.0-is0.0-cs0.0-tr0-krc3-krr1-krrp:middle\n",
      "Starting: privacy-evaluation-pf6-ps1.0-is0.0-cs0.0-tr0-krc1-krr1-krrp:middle\n",
      "\"Elapsed time: 164860.112 msecs\"\n"
     ]
    },
    {
     "data": {
      "text/plain": [
       "null"
      ]
     },
     "execution_count": 7,
     "metadata": {},
     "output_type": "execute_result"
    }
   ],
   "source": [
    "(run-masking-experiments rp-only-configuration)"
   ]
  },
  {
   "cell_type": "markdown",
   "metadata": {},
   "source": [
    "## Load and Extend Experiment Results"
   ]
  },
  {
   "cell_type": "code",
   "execution_count": 8,
   "metadata": {},
   "outputs": [
    {
     "data": {
      "text/plain": [
       "#'beaker_clojure_shell_565a0a2f-14b1-4e4e-8101-dfec807c0224/flat-results-cumulative"
      ]
     },
     "execution_count": 8,
     "metadata": {},
     "output_type": "execute_result"
    }
   ],
   "source": [
    "(def output-cumulative (load-data (:output-file cumulative-noise-configuration)))\n",
    "(def original-accuracy-cumulative (-> output-cumulative :original :accuracy))\n",
    "(def results-cumulative (-> (filter #(contains? (set cumulative-noise-sigmas) (:cumulative-noise-sigma %))\n",
    "                                    (:results output-cumulative))\n",
    "                            (add-combined-result :score [:a-rp :a-rpcn])\n",
    "                            (add-combined-result :score [:a-rp :a-rpcn-1])))\n",
    "(def flat-results-cumulative (->> results-cumulative\n",
    "                                  flatten-masking-experiment-recoveries\n",
    "                                  (map #(assoc % :unknown-record-relative-position (unknown-record-relative-position %)))))"
   ]
  },
  {
   "cell_type": "code",
   "execution_count": 9,
   "metadata": {},
   "outputs": [
    {
     "data": {
      "text/plain": [
       "#'beaker_clojure_shell_565a0a2f-14b1-4e4e-8101-dfec807c0224/flat-results-independent"
      ]
     },
     "execution_count": 9,
     "metadata": {},
     "output_type": "execute_result"
    }
   ],
   "source": [
    "(def output-independent (load-data (:output-file independent-noise-configuration)))\n",
    "(def original-accuracy-independent (-> output-independent :original :accuracy))\n",
    "(def results-independent (-> (filter #(contains? (set independent-noise-sigmas) (:independent-noise-sigma %))\n",
    "                                     (:results output-independent))\n",
    "                             (add-combined-result :score [:a-rp :a-rpin])\n",
    "                             (add-combined-result :score [:a-rp :a-rpin-1])))\n",
    "(def flat-results-independent (->> results-independent\n",
    "                                   flatten-masking-experiment-recoveries\n",
    "                                   (map #(assoc % :unknown-record-relative-position (unknown-record-relative-position %)))))"
   ]
  },
  {
   "cell_type": "code",
   "execution_count": 10,
   "metadata": {},
   "outputs": [
    {
     "data": {
      "text/plain": [
       "#'beaker_clojure_shell_565a0a2f-14b1-4e4e-8101-dfec807c0224/flat-results-rp-only"
      ]
     },
     "execution_count": 10,
     "metadata": {},
     "output_type": "execute_result"
    }
   ],
   "source": [
    "(def output-rp-only (load-data (:output-file rp-only-configuration)))\n",
    "(def original-accuracy-rp-only (-> output-rp-only :original :accuracy))\n",
    "(def results-rp-only (-> (:results output-rp-only)))\n",
    "(def flat-results-rp-only (->> results-rp-only\n",
    "                               flatten-masking-experiment-recoveries\n",
    "                               (map #(assoc % :unknown-record-relative-position (unknown-record-relative-position %)))))"
   ]
  },
  {
   "cell_type": "markdown",
   "metadata": {},
   "source": [
    "## Comparison of Attack Strategies"
   ]
  },
  {
   "cell_type": "code",
   "execution_count": 11,
   "metadata": {
    "scrolled": false
   },
   "outputs": [
    {
     "data": {
      "application/vnd.jupyter.widget-view+json": {
       "model_id": "fc46e62a-1b7f-44d0-ba08-7139a4a8e81f",
       "version_major": 2,
       "version_minor": 0
      },
      "method": "display_data"
     },
     "metadata": {},
     "output_type": "display_data"
    },
    {
     "data": {
      "application/vnd.jupyter.widget-view+json": {
       "model_id": "5fe0e860-0da5-4aab-ba60-6798717c420b",
       "version_major": 2,
       "version_minor": 0
      },
      "method": "display_data"
     },
     "metadata": {},
     "output_type": "display_data"
    },
    {
     "data": {
      "application/vnd.jupyter.widget-view+json": {
       "model_id": "beda8562-c01d-4fec-b69e-cfaf9bef1737",
       "version_major": 2,
       "version_minor": 0
      },
      "method": "display_data"
     },
     "metadata": {},
     "output_type": "display_data"
    },
    {
     "data": {
      "application/vnd.jupyter.widget-view+json": {
       "model_id": "db63eb83-5744-4bb8-8a22-3b5bb0c486f7",
       "version_major": 2,
       "version_minor": 0
      },
      "method": "display_data"
     },
     "metadata": {},
     "output_type": "display_data"
    },
    {
     "data": {
      "application/vnd.jupyter.widget-view+json": {
       "model_id": "6931f5ba-3cd9-45e0-aba8-2038edef76eb",
       "version_major": 2,
       "version_minor": 0
      },
      "method": "display_data"
     },
     "metadata": {},
     "output_type": "display_data"
    },
    {
     "data": {
      "application/vnd.jupyter.widget-view+json": {
       "model_id": "d41e1fdb-50c6-443e-9efd-235e52e0d5c6",
       "version_major": 2,
       "version_minor": 0
      },
      "method": "display_data"
     },
     "metadata": {},
     "output_type": "display_data"
    },
    {
     "data": {
      "application/vnd.jupyter.widget-view+json": {
       "model_id": "8a1cc68a-4b8d-4f28-bedd-9c0b4dbbe543",
       "version_major": 2,
       "version_minor": 0
      },
      "method": "display_data"
     },
     "metadata": {},
     "output_type": "display_data"
    },
    {
     "data": {
      "application/vnd.jupyter.widget-view+json": {
       "model_id": "2d6c0a14-aeeb-4a8a-9eb9-7afc0b79c4c2",
       "version_major": 2,
       "version_minor": 0
      },
      "method": "display_data"
     },
     "metadata": {},
     "output_type": "display_data"
    },
    {
     "data": {
      "text/plain": [
       "null"
      ]
     },
     "execution_count": 11,
     "metadata": {},
     "output_type": "execute_result"
    }
   ],
   "source": [
    "(doseq [epsilon epsilons]\n",
    "    (display-html (str \"<h3>Epsilon = \" epsilon \"</h3>\"))\n",
    "    (.display (attack-strategy-comparison-plots flat-results-cumulative :all epsilon\n",
    "                                                :plot-width 400\n",
    "                                                :plot-height 400\n",
    "                                                :show-legend? true))\n",
    "    (display-html (str \"<h4>Breakdown by noise amount</h4>\"))\n",
    "    (.display (attack-strategy-comparison-plots flat-results-cumulative :cumulative-noise-sigma epsilon\n",
    "                                                :plot-width 400\n",
    "                                                :plot-height 400\n",
    "                                                :show-legend? false)))"
   ]
  },
  {
   "cell_type": "code",
   "execution_count": 12,
   "metadata": {
    "scrolled": false
   },
   "outputs": [
    {
     "data": {
      "application/vnd.jupyter.widget-view+json": {
       "model_id": "5776127f-bac8-4ad9-befd-d2bdb8871771",
       "version_major": 2,
       "version_minor": 0
      },
      "method": "display_data"
     },
     "metadata": {},
     "output_type": "display_data"
    },
    {
     "data": {
      "application/vnd.jupyter.widget-view+json": {
       "model_id": "22189f1e-16d4-4a54-8466-7a5de7df86b9",
       "version_major": 2,
       "version_minor": 0
      },
      "method": "display_data"
     },
     "metadata": {},
     "output_type": "display_data"
    },
    {
     "data": {
      "application/vnd.jupyter.widget-view+json": {
       "model_id": "89405d30-e317-46b3-9e62-44c08aa0241a",
       "version_major": 2,
       "version_minor": 0
      },
      "method": "display_data"
     },
     "metadata": {},
     "output_type": "display_data"
    },
    {
     "data": {
      "application/vnd.jupyter.widget-view+json": {
       "model_id": "7240a8c1-3217-491b-b00f-2ca5914cfebe",
       "version_major": 2,
       "version_minor": 0
      },
      "method": "display_data"
     },
     "metadata": {},
     "output_type": "display_data"
    },
    {
     "data": {
      "application/vnd.jupyter.widget-view+json": {
       "model_id": "c1062fe9-afd4-452b-8b31-1404253c0b6c",
       "version_major": 2,
       "version_minor": 0
      },
      "method": "display_data"
     },
     "metadata": {},
     "output_type": "display_data"
    },
    {
     "data": {
      "application/vnd.jupyter.widget-view+json": {
       "model_id": "d790dd4d-5948-4ea3-bb9b-454028beabc1",
       "version_major": 2,
       "version_minor": 0
      },
      "method": "display_data"
     },
     "metadata": {},
     "output_type": "display_data"
    },
    {
     "data": {
      "application/vnd.jupyter.widget-view+json": {
       "model_id": "4ea6e466-a865-45f0-834c-d7d2c9bc3771",
       "version_major": 2,
       "version_minor": 0
      },
      "method": "display_data"
     },
     "metadata": {},
     "output_type": "display_data"
    },
    {
     "data": {
      "application/vnd.jupyter.widget-view+json": {
       "model_id": "a9085b5f-31d2-40db-9329-6bf42c4171d7",
       "version_major": 2,
       "version_minor": 0
      },
      "method": "display_data"
     },
     "metadata": {},
     "output_type": "display_data"
    },
    {
     "data": {
      "text/plain": [
       "null"
      ]
     },
     "execution_count": 12,
     "metadata": {},
     "output_type": "execute_result"
    }
   ],
   "source": [
    "(doseq [epsilon epsilons]\n",
    "    (display-html (str \"<h3>Epsilon = \" epsilon \"</h3>\"))\n",
    "    (.display (attack-strategy-comparison-plots flat-results-independent :all epsilon\n",
    "                                                :plot-width 400\n",
    "                                                :plot-height 400\n",
    "                                                :show-legend? true))\n",
    "    (display-html (str \"<h4>Breakdown by noise amount</h4>\"))\n",
    "    (.display (attack-strategy-comparison-plots flat-results-independent :independent-noise-sigma epsilon\n",
    "                                                :plot-width 400\n",
    "                                                :plot-height 400\n",
    "                                                :show-legend? false)))"
   ]
  },
  {
   "cell_type": "code",
   "execution_count": 13,
   "metadata": {},
   "outputs": [
    {
     "data": {
      "application/vnd.jupyter.widget-view+json": {
       "model_id": "61b199f5-237c-4c19-a57d-396672a31e96",
       "version_major": 2,
       "version_minor": 0
      },
      "method": "display_data"
     },
     "metadata": {},
     "output_type": "display_data"
    },
    {
     "data": {
      "text/plain": [
       "null"
      ]
     },
     "execution_count": 13,
     "metadata": {},
     "output_type": "execute_result"
    }
   ],
   "source": [
    "(let [comparison (attack-strategy-comparison flat-results-cumulative epsilons\n",
    "                                  :known-record-count (apply max (:known-record-counts base-configuration)))]\n",
    "    (save-data (str \"workspace/\" dataset-label \"/cumulative-attack-strategies-comparison.edn\") comparison)\n",
    "    (display-table comparison))"
   ]
  },
  {
   "cell_type": "code",
   "execution_count": 14,
   "metadata": {},
   "outputs": [
    {
     "data": {
      "application/vnd.jupyter.widget-view+json": {
       "model_id": "0399f9a3-f1da-49a6-93df-4170191b9a39",
       "version_major": 2,
       "version_minor": 0
      },
      "method": "display_data"
     },
     "metadata": {},
     "output_type": "display_data"
    },
    {
     "data": {
      "text/plain": [
       "null"
      ]
     },
     "execution_count": 14,
     "metadata": {},
     "output_type": "execute_result"
    }
   ],
   "source": [
    "(let [comparison (attack-strategy-comparison flat-results-independent epsilons\n",
    "                                  :known-record-count (apply max (:known-record-counts base-configuration)))]\n",
    "    (save-data (str \"workspace/\" dataset-label \"/independent-attack-strategies-comparison.edn\") comparison)\n",
    "    (display-table comparison))"
   ]
  },
  {
   "cell_type": "code",
   "execution_count": 15,
   "metadata": {},
   "outputs": [
    {
     "data": {
      "text/plain": [
       "#'beaker_clojure_shell_565a0a2f-14b1-4e4e-8101-dfec807c0224/best-independent-attack-strategy"
      ]
     },
     "execution_count": 15,
     "metadata": {},
     "output_type": "execute_result"
    }
   ],
   "source": [
    "(def best-cumulative-attack-strategy :a-rpcn-1)\n",
    "(def best-independent-attack-strategy :a-rpin-1)"
   ]
  },
  {
   "cell_type": "markdown",
   "metadata": {},
   "source": [
    "## Cumulative vs. Independent Noise"
   ]
  },
  {
   "cell_type": "code",
   "execution_count": 16,
   "metadata": {},
   "outputs": [
    {
     "data": {
      "application/vnd.jupyter.widget-view+json": {
       "model_id": "fe2bebcc-42c0-4e27-9522-9e8064bc9363",
       "version_major": 2,
       "version_minor": 0
      },
      "method": "display_data"
     },
     "metadata": {},
     "output_type": "display_data"
    },
    {
     "data": {
      "text/plain": [
       "null"
      ]
     },
     "execution_count": 16,
     "metadata": {},
     "output_type": "execute_result"
    }
   ],
   "source": [
    "(display-html (accuracy-privacy-tradeoff-legend independent-noise-sigmas cumulative-noise-sigmas))\n",
    "nil"
   ]
  },
  {
   "cell_type": "code",
   "execution_count": 17,
   "metadata": {
    "scrolled": false
   },
   "outputs": [
    {
     "data": {
      "application/vnd.jupyter.widget-view+json": {
       "model_id": "f94da988-804e-425d-8258-3d5c264e3c22",
       "version_major": 2,
       "version_minor": 0
      },
      "method": "display_data"
     },
     "metadata": {},
     "output_type": "display_data"
    },
    {
     "data": {
      "application/vnd.jupyter.widget-view+json": {
       "model_id": "d9ce8a3c-4832-42ed-89f0-897e76751a14",
       "version_major": 2,
       "version_minor": 0
      },
      "method": "display_data"
     },
     "metadata": {},
     "output_type": "display_data"
    },
    {
     "data": {
      "text/plain": [
       "null"
      ]
     },
     "execution_count": 17,
     "metadata": {},
     "output_type": "execute_result"
    }
   ],
   "source": [
    "(doseq [epsilon epsilons]\n",
    "    (.display (accuracy-privacy-tradeoff-comparison results-cumulative results-independent results-rp-only\n",
    "                                                    :arf best-cumulative-attack-strategy best-independent-attack-strategy epsilon\n",
    "                                                    :plot-width 400\n",
    "                                                    :plot-height 400)))"
   ]
  },
  {
   "cell_type": "markdown",
   "metadata": {},
   "source": [
    "### Comparison of Square Distance From Origin\n",
    "\n",
    "Performance is the sum of the squares of: (1) Prob. of e-privacy breach and (2) classification error."
   ]
  },
  {
   "cell_type": "code",
   "execution_count": 18,
   "metadata": {},
   "outputs": [
    {
     "data": {
      "application/vnd.jupyter.widget-view+json": {
       "model_id": "d336ef65-c26e-48d1-9cf0-59c1b0741903",
       "version_major": 2,
       "version_minor": 0
      },
      "method": "display_data"
     },
     "metadata": {},
     "output_type": "display_data"
    },
    {
     "data": {
      "text/plain": [
       "null"
      ]
     },
     "execution_count": 18,
     "metadata": {},
     "output_type": "execute_result"
    }
   ],
   "source": [
    "(let [comparison (accuracy-privacy-tradeoff results-cumulative results-independent results-rp-only\n",
    "                               :arf best-cumulative-attack-strategy best-independent-attack-strategy epsilons\n",
    "                               :square-distance? true\n",
    "                               :row-per-noise-level? true\n",
    "                               :known-record-count (apply max (:known-record-counts base-configuration)))]\n",
    "    (save-data (str \"workspace/\" dataset-label \"/mask-comparison.edn\") comparison)\n",
    "    (display-table comparison))"
   ]
  },
  {
   "cell_type": "markdown",
   "metadata": {},
   "source": [
    "## Effect of Cumulative Noise on Accuracy over Time"
   ]
  },
  {
   "cell_type": "code",
   "execution_count": 19,
   "metadata": {},
   "outputs": [
    {
     "data": {
      "application/vnd.jupyter.widget-view+json": {
       "model_id": "3cc06885-fbfe-4c28-b3bc-d4f78e6742f3",
       "version_major": 2,
       "version_minor": 0
      },
      "method": "display_data"
     },
     "metadata": {},
     "output_type": "display_data"
    }
   ],
   "source": [
    "(noise-accuracy-plot results-cumulative results-independent results-rp-only :arf\n",
    "                     :init-width 800\n",
    "                     :init-height 400)"
   ]
  },
  {
   "cell_type": "markdown",
   "metadata": {},
   "source": [
    "## Effect of Cumulative Noise on Privacy over Time"
   ]
  },
  {
   "cell_type": "code",
   "execution_count": 20,
   "metadata": {},
   "outputs": [
    {
     "data": {
      "application/vnd.jupyter.widget-view+json": {
       "model_id": "c91c0769-bd73-4542-a732-cec1aee702a2",
       "version_major": 2,
       "version_minor": 0
      },
      "method": "display_data"
     },
     "metadata": {},
     "output_type": "display_data"
    }
   ],
   "source": [
    "(display-masking-error-plots (->> flat-results-cumulative\n",
    "                                  (filter #(= best-cumulative-attack-strategy (:strategy %)))\n",
    "                                  (filter #(= (apply max cumulative-noise-sigmas) (:cumulative-noise-sigma %)))\n",
    "                                  (filter #(= (apply max (:known-record-counts base-configuration)) (:known-record-count %))))\n",
    "                             :cumulative-noise-sigma :known-record-count :strategy\n",
    "                             :plot-width 500\n",
    "                             :plot-height 500)"
   ]
  },
  {
   "cell_type": "code",
   "execution_count": null,
   "metadata": {},
   "outputs": [],
   "source": []
  },
  {
   "cell_type": "code",
   "execution_count": null,
   "metadata": {},
   "outputs": [],
   "source": []
  },
  {
   "cell_type": "code",
   "execution_count": null,
   "metadata": {},
   "outputs": [],
   "source": []
  }
 ],
 "metadata": {
  "kernelspec": {
   "display_name": "Clojure",
   "language": "clojure",
   "name": "clojure"
  },
  "language_info": {
   "codemirror_mode": "Clojure",
   "file_extension": ".clj",
   "mimetype": "text/x-clojure",
   "name": "Clojure",
   "nbconverter_exporter": "",
   "version": "1.9.0"
  },
  "toc": {
   "base_numbering": 1,
   "nav_menu": {},
   "number_sections": false,
   "sideBar": false,
   "skip_h1_title": false,
   "title_cell": "Table of Contents",
   "title_sidebar": "Contents",
   "toc_cell": false,
   "toc_position": {},
   "toc_section_display": false,
   "toc_window_display": false
  }
 },
 "nbformat": 4,
 "nbformat_minor": 2
}
