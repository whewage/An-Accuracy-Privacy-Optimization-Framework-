{
 "cells": [
  {
   "cell_type": "code",
   "execution_count": 1,
   "metadata": {},
   "outputs": [
    {
     "name": "stdout",
     "output_type": "stream",
     "text": [
      "Archive:  HTRU2.zip\n",
      "  inflating: HTRU_2.csv              \n",
      "  inflating: HTRU_2.arff             \n",
      "  inflating: Readme.txt              \n"
     ]
    },
    {
     "name": "stderr",
     "output_type": "stream",
     "text": [
      "--2019-08-11 04:56:41--  https://archive.ics.uci.edu/ml/machine-learning-databases/00372/HTRU2.zip\n",
      "Resolving archive.ics.uci.edu (archive.ics.uci.edu)... 128.195.10.252\n",
      "Connecting to archive.ics.uci.edu (archive.ics.uci.edu)|128.195.10.252|:443... connected.\n",
      "HTTP request sent, awaiting response... 200 OK\n",
      "Length: 1563015 (1.5M) [application/x-httpd-php]\n",
      "Saving to: ‘HTRU2.zip’\n",
      "\n",
      "     0K .......... .......... .......... .......... ..........  3%  157K 9s\n",
      "    50K .......... .......... .......... .......... ..........  6%  318K 7s\n",
      "   100K .......... .......... .......... .......... ..........  9% 11.4M 4s\n",
      "   150K .......... .......... .......... .......... .......... 13% 12.7M 3s\n",
      "   200K .......... .......... .......... .......... .......... 16%  326K 3s\n",
      "   250K .......... .......... .......... .......... .......... 19% 11.9M 3s\n",
      "   300K .......... .......... .......... .......... .......... 22%  330K 3s\n",
      "   350K .......... .......... .......... .......... .......... 26% 12.2M 2s\n",
      "   400K .......... .......... .......... .......... .......... 29% 9.11M 2s\n",
      "   450K .......... .......... .......... .......... .......... 32%  106K 3s\n",
      "   500K .......... .......... .......... .......... .......... 36% 12.2M 2s\n",
      "   550K .......... .......... .......... .......... .......... 39% 81.9M 2s\n",
      "   600K .......... .......... .......... .......... .......... 42%  156M 2s\n",
      "   650K .......... .......... .......... .......... .......... 45%  106M 2s\n",
      "   700K .......... .......... .......... .......... .......... 49%  124M 1s\n",
      "   750K .......... .......... .......... .......... .......... 52% 24.7M 1s\n",
      "   800K .......... .......... .......... .......... .......... 55% 81.3M 1s\n",
      "   850K .......... .......... .......... .......... .......... 58% 48.8M 1s\n",
      "   900K .......... .......... .......... .......... .......... 62% 72.7M 1s\n",
      "   950K .......... .......... .......... .......... .......... 65% 70.6M 1s\n",
      "  1000K .......... .......... .......... .......... .......... 68%  116M 1s\n",
      "  1050K .......... .......... .......... .......... .......... 72%  133M 0s\n",
      "  1100K .......... .......... .......... .......... .......... 75%  111M 0s\n",
      "  1150K .......... .......... .......... .......... .......... 78%  113M 0s\n",
      "  1200K .......... .......... .......... .......... .......... 81%  124M 0s\n",
      "  1250K .......... .......... .......... .......... .......... 85%  308K 0s\n",
      "  1300K .......... .......... .......... .......... .......... 88%  113M 0s\n",
      "  1350K .......... .......... .......... .......... .......... 91%  289M 0s\n",
      "  1400K .......... .......... .......... .......... .......... 94%  292M 0s\n",
      "  1450K .......... .......... .......... .......... .......... 98%  301M 0s\n",
      "  1500K .......... .......... ......                          100%  324M=1.5s\n",
      "\n",
      "2019-08-11 04:56:43 (1.03 MB/s) - ‘HTRU2.zip’ saved [1563015/1563015]\n",
      "\n"
     ]
    }
   ],
   "source": [
    "%%bash\n",
    "rm -rf ../datasets/htru2\n",
    "mkdir -p ../datasets/htru2\n",
    "cd ../datasets/htru2\n",
    "wget https://archive.ics.uci.edu/ml/machine-learning-databases/00372/HTRU2.zip\n",
    "unzip HTRU2.zip\n",
    "echo 'att1,att2,att3,att4,att5,att6,att7,att8,class' > htru2.csv\n",
    "cat HTRU_2.csv | sed 's/\\r/\\n/g' >> htru2.csv\n",
    "mv htru2.csv HTRU_2.csv\n"
   ]
  },
  {
   "cell_type": "code",
   "execution_count": null,
   "metadata": {},
   "outputs": [],
   "source": []
  }
 ],
 "metadata": {
  "kernelspec": {
   "display_name": "Python 3",
   "language": "python",
   "name": "python3"
  },
  "language_info": {
   "codemirror_mode": {
    "name": "ipython",
    "version": 3
   },
   "file_extension": ".py",
   "mimetype": "text/x-python",
   "name": "python",
   "nbconvert_exporter": "python",
   "pygments_lexer": "ipython3",
   "version": "3.6.6"
  },
  "toc": {
   "base_numbering": 1,
   "nav_menu": {},
   "number_sections": false,
   "sideBar": false,
   "skip_h1_title": false,
   "title_cell": "Table of Contents",
   "title_sidebar": "Contents",
   "toc_cell": false,
   "toc_position": {},
   "toc_section_display": false,
   "toc_window_display": false
  }
 },
 "nbformat": 4,
 "nbformat_minor": 2
}
