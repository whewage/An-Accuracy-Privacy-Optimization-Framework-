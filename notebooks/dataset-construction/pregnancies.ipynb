{
 "cells": [
  {
   "cell_type": "code",
   "execution_count": 1,
   "metadata": {},
   "outputs": [
    {
     "name": "stdout",
     "output_type": "stream",
     "text": [
      "Collecting thinkx\n",
      "\u001b[?25l  Downloading https://files.pythonhosted.org/packages/34/7a/43e0e92fbd96916a11a78ce637b34e9e9416fa48f9d3ef90927234e86c36/thinkx-1.1.3.tar.gz (41kB)\n",
      "\u001b[K    100% |████████████████████████████████| 51kB 5.6MB/s ta 0:00:01\n",
      "\u001b[?25hRequirement already satisfied: matplotlib in /opt/conda/envs/beakerx/lib/python3.6/site-packages (from thinkx) (3.1.1)\n",
      "Requirement already satisfied: numpy in /opt/conda/envs/beakerx/lib/python3.6/site-packages (from thinkx) (1.15.1)\n",
      "Requirement already satisfied: pandas in /opt/conda/envs/beakerx/lib/python3.6/site-packages (from thinkx) (0.23.4)\n",
      "Requirement already satisfied: scipy in /opt/conda/envs/beakerx/lib/python3.6/site-packages (from thinkx) (1.3.1)\n",
      "Collecting markdown (from thinkx)\n",
      "\u001b[?25l  Downloading https://files.pythonhosted.org/packages/c0/4e/fd492e91abdc2d2fcb70ef453064d980688762079397f779758e055f6575/Markdown-3.1.1-py2.py3-none-any.whl (87kB)\n",
      "\u001b[K    100% |████████████████████████████████| 92kB 12.5MB/s ta 0:00:01\n",
      "\u001b[?25hRequirement already satisfied: cycler>=0.10 in /opt/conda/envs/beakerx/lib/python3.6/site-packages (from matplotlib->thinkx) (0.10.0)\n",
      "Requirement already satisfied: python-dateutil>=2.1 in /opt/conda/envs/beakerx/lib/python3.6/site-packages (from matplotlib->thinkx) (2.7.3)\n",
      "Requirement already satisfied: pyparsing!=2.0.4,!=2.1.2,!=2.1.6,>=2.0.1 in /opt/conda/envs/beakerx/lib/python3.6/site-packages (from matplotlib->thinkx) (2.4.2)\n",
      "Requirement already satisfied: kiwisolver>=1.0.1 in /opt/conda/envs/beakerx/lib/python3.6/site-packages (from matplotlib->thinkx) (1.1.0)\n",
      "Requirement already satisfied: pytz>=2011k in /opt/conda/envs/beakerx/lib/python3.6/site-packages (from pandas->thinkx) (2018.5)\n",
      "Requirement already satisfied: setuptools>=36 in /opt/conda/envs/beakerx/lib/python3.6/site-packages (from markdown->thinkx) (40.2.0)\n",
      "Requirement already satisfied: six in /opt/conda/envs/beakerx/lib/python3.6/site-packages (from cycler>=0.10->matplotlib->thinkx) (1.11.0)\n",
      "Building wheels for collected packages: thinkx\n",
      "  Running setup.py bdist_wheel for thinkx ... \u001b[?25ldone\n",
      "\u001b[?25h  Stored in directory: /home/beakerx/.cache/pip/wheels/74/e9/57/f4ad676ba30144b574a6cc36606e82874f8aac8271112f1cd3\n",
      "Successfully built thinkx\n",
      "Installing collected packages: markdown, thinkx\n",
      "Successfully installed markdown-3.1.1 thinkx-1.1.3\n"
     ]
    }
   ],
   "source": [
    "!pip install thinkx"
   ]
  },
  {
   "cell_type": "code",
   "execution_count": 2,
   "metadata": {},
   "outputs": [],
   "source": [
    "import os\n",
    "import pandas as pd\n",
    "import numpy as np\n",
    "from pathlib import Path\n",
    "import re\n",
    "import thinkstats2"
   ]
  },
  {
   "cell_type": "code",
   "execution_count": 3,
   "metadata": {},
   "outputs": [],
   "source": [
    "dataset_dir = '../datasets/pregnancies'\n",
    "\n",
    "if not os.path.exists(dataset_dir):\n",
    "    os.makedirs(dataset_dir)"
   ]
  },
  {
   "cell_type": "code",
   "execution_count": 4,
   "metadata": {},
   "outputs": [
    {
     "name": "stderr",
     "output_type": "stream",
     "text": [
      "--2019-08-10 00:59:30--  https://raw.githubusercontent.com/AllenDowney/ThinkStats2/master/code/2002FemPreg.dat.gz\n",
      "Resolving raw.githubusercontent.com (raw.githubusercontent.com)... 151.101.164.133\n",
      "Connecting to raw.githubusercontent.com (raw.githubusercontent.com)|151.101.164.133|:443... connected.\n",
      "HTTP request sent, awaiting response... 200 OK\n",
      "Length: 1041415 (1017K) [application/octet-stream]\n",
      "Saving to: ‘2002FemPreg.dat.gz’\n",
      "\n",
      "     0K .......... .......... .......... .......... ..........  4% 6.58M 0s\n",
      "    50K .......... .......... .......... .......... ..........  9% 10.4M 0s\n",
      "   100K .......... .......... .......... .......... .......... 14% 23.2M 0s\n",
      "   150K .......... .......... .......... .......... .......... 19% 15.2M 0s\n",
      "   200K .......... .......... .......... .......... .......... 24% 12.6M 0s\n",
      "   250K .......... .......... .......... .......... .......... 29% 9.57M 0s\n",
      "   300K .......... .......... .......... .......... .......... 34% 12.4M 0s\n",
      "   350K .......... .......... .......... .......... .......... 39% 8.47M 0s\n",
      "   400K .......... .......... .......... .......... .......... 44% 12.0M 0s\n",
      "   450K .......... .......... .......... .......... .......... 49% 11.8M 0s\n",
      "   500K .......... .......... .......... .......... .......... 54% 12.0M 0s\n",
      "   550K .......... .......... .......... .......... .......... 58% 11.6M 0s\n",
      "   600K .......... .......... .......... .......... .......... 63% 10.9M 0s\n",
      "   650K .......... .......... .......... .......... .......... 68% 12.3M 0s\n",
      "   700K .......... .......... .......... .......... .......... 73% 11.8M 0s\n",
      "   750K .......... .......... .......... .......... .......... 78% 9.09M 0s\n",
      "   800K .......... .......... .......... .......... .......... 83% 11.9M 0s\n",
      "   850K .......... .......... .......... .......... .......... 88% 11.8M 0s\n",
      "   900K .......... .......... .......... .......... .......... 93% 11.1M 0s\n",
      "   950K .......... .......... .......... .......... .......... 98% 11.7M 0s\n",
      "  1000K .......... .......                                    100%  371K=0.1s\n",
      "\n",
      "2019-08-10 00:59:31 (7.45 MB/s) - ‘2002FemPreg.dat.gz’ saved [1041415/1041415]\n",
      "\n",
      "--2019-08-10 00:59:31--  https://raw.githubusercontent.com/AllenDowney/ThinkStats2/master/code/2002FemPreg.dct\n",
      "Resolving raw.githubusercontent.com (raw.githubusercontent.com)... 151.101.164.133\n",
      "Connecting to raw.githubusercontent.com (raw.githubusercontent.com)|151.101.164.133|:443... connected.\n",
      "HTTP request sent, awaiting response... 200 OK\n",
      "Length: 28607 (28K) [text/plain]\n",
      "Saving to: ‘2002FemPreg.dct’\n",
      "\n",
      "     0K .......... .......... .......                         100% 59.0M=0s\n",
      "\n",
      "2019-08-10 00:59:32 (59.0 MB/s) - ‘2002FemPreg.dct’ saved [28607/28607]\n",
      "\n"
     ]
    }
   ],
   "source": [
    "%%bash\n",
    "cd ../datasets/pregnancies\n",
    "rm -f 2002FemPreg.dat.gz 2002FemPreg.dct\n",
    "wget https://raw.githubusercontent.com/AllenDowney/ThinkStats2/master/code/2002FemPreg.dat.gz\n",
    "wget https://raw.githubusercontent.com/AllenDowney/ThinkStats2/master/code/2002FemPreg.dct"
   ]
  },
  {
   "cell_type": "code",
   "execution_count": 5,
   "metadata": {},
   "outputs": [],
   "source": [
    "dct = thinkstats2.ReadStataDct(os.path.join(dataset_dir, '2002FemPreg.dct'), encoding='iso-8859-1')\n",
    "df = dct.ReadFixedWidth(os.path.join(dataset_dir, '2002FemPreg.dat.gz'), compression='gzip')"
   ]
  },
  {
   "cell_type": "code",
   "execution_count": 6,
   "metadata": {},
   "outputs": [],
   "source": [
    "# Source: https://github.com/AllenDowney/ThinkStats2/blob/master/code/nsfg2.py#L47\n",
    "def CleanFemPreg(df):\n",
    "    \"\"\"Recodes variables from the pregnancy frame.\n",
    "    df: DataFrame\n",
    "    \"\"\"\n",
    "    # mother's age is encoded in centiyears; convert to years\n",
    "    df.agepreg /= 100.0\n",
    "\n",
    "    # birthwgt_lb contains at least one bogus value (51 lbs)\n",
    "    # replace with NaN\n",
    "    df.loc[df.birthwgt_lb > 20, 'birthwgt_lb'] = np.nan\n",
    "    \n",
    "    # replace 'not ascertained', 'refused', 'don't know' with NaN\n",
    "    na_vals = [97, 98, 99]\n",
    "    df.birthwgt_lb.replace(na_vals, np.nan, inplace=True)\n",
    "    df.birthwgt_oz.replace(na_vals, np.nan, inplace=True)\n",
    "\n",
    "    # birthweight is stored in two columns, lbs and oz.\n",
    "    # convert to a single column in lb\n",
    "    # NOTE: creating a new column requires dictionary syntax,\n",
    "    # not attribute assignment (like df.totalwgt_lb)\n",
    "    df['totalwgt_lb'] = df.birthwgt_lb + df.birthwgt_oz / 16.0    \n",
    "\n",
    "    # due to a bug in ReadStataDct, the last variable gets clipped;\n",
    "    # so for now set it to NaN\n",
    "    df.phase = np.nan\n",
    "    return df\n",
    "\n",
    "df = CleanFemPreg(df)"
   ]
  },
  {
   "cell_type": "code",
   "execution_count": 7,
   "metadata": {},
   "outputs": [],
   "source": [
    "df = df[df['outcome'].isin([1, 3, 4])]\n",
    "df['outcome'] = df['outcome'] == 1\n",
    "df = df[[ c for c in df.columns.values if c != 'outcome' ] + ['outcome']]"
   ]
  },
  {
   "cell_type": "code",
   "execution_count": 8,
   "metadata": {},
   "outputs": [],
   "source": [
    "g = df.groupby('outcome')\n",
    "df = g.apply(lambda x: x.sample(g.size().min(), random_state=1)).reset_index(drop=True)"
   ]
  },
  {
   "cell_type": "code",
   "execution_count": 9,
   "metadata": {},
   "outputs": [],
   "source": [
    "df = df.sort_values('cmprgend')"
   ]
  },
  {
   "cell_type": "code",
   "execution_count": 10,
   "metadata": {},
   "outputs": [],
   "source": [
    "df = df[['parity', 'agecon', 'pregordr', 'poverty', 'educat', 'outcome']]"
   ]
  },
  {
   "cell_type": "code",
   "execution_count": 11,
   "metadata": {},
   "outputs": [],
   "source": [
    "df['parity'] = df['parity'].apply(lambda x: max(x-1, 0))"
   ]
  },
  {
   "cell_type": "code",
   "execution_count": 12,
   "metadata": {},
   "outputs": [],
   "source": [
    "df.to_csv(os.path.join(dataset_dir, 'pregnancies.csv'), index=False)"
   ]
  },
  {
   "cell_type": "code",
   "execution_count": null,
   "metadata": {},
   "outputs": [],
   "source": []
  }
 ],
 "metadata": {
  "kernelspec": {
   "display_name": "Python 3",
   "language": "python",
   "name": "python3"
  },
  "language_info": {
   "codemirror_mode": {
    "name": "ipython",
    "version": 3
   },
   "file_extension": ".py",
   "mimetype": "text/x-python",
   "name": "python",
   "nbconvert_exporter": "python",
   "pygments_lexer": "ipython3",
   "version": "3.6.6"
  },
  "toc": {
   "base_numbering": 1,
   "nav_menu": {},
   "number_sections": false,
   "sideBar": false,
   "skip_h1_title": false,
   "title_cell": "Table of Contents",
   "title_sidebar": "Contents",
   "toc_cell": false,
   "toc_position": {},
   "toc_section_display": false,
   "toc_window_display": false
  }
 },
 "nbformat": 4,
 "nbformat_minor": 2
}
