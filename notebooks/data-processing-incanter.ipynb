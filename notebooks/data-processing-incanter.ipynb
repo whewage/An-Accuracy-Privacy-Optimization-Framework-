{
 "cells": [
  {
   "cell_type": "code",
   "execution_count": 1,
   "metadata": {
    "scrolled": true
   },
   "outputs": [
    {
     "name": "stdout",
     "output_type": "stream",
     "text": [
      "Retrieving clj-time/clj-time/0.14.0/clj-time-0.14.0.jar from clojars\n",
      "Compiling ppdsp.classifier.base\n",
      "Compiling ppdsp.classifier.inspectablearf\n",
      "Compiling ppdsp.classifier.moa-classifier\n",
      "Compiling ppdsp.classifier.random\n",
      "Compiling ppdsp.core\n",
      "Compiling ppdsp.dataset.base\n",
      "Compiling ppdsp.dataset.csv-dataset\n",
      "Compiling ppdsp.dataset.moa\n",
      "Compiling ppdsp.dataset.save-csv\n",
      "Compiling ppdsp.masking.attack-data\n",
      "Compiling ppdsp.masking.base\n",
      "Compiling ppdsp.masking.evaluation\n",
      "Compiling ppdsp.masking.optimize\n",
      "Compiling ppdsp.masking.projection\n",
      "Compiling ppdsp.masking.single-stage-cumulative-attack\n",
      "Compiling ppdsp.masking.two-stage-cumulative-attack\n",
      "Compiling ppdsp.masking.two-stage-independent-attack\n",
      "Compiling ppdsp.masking.utils\n",
      "Compiling ppdsp.scratchpad\n",
      "Compiling ppdsp.training\n",
      "Compiling ppdsp.trees.base\n",
      "Compiling ppdsp.trees.graph-tree\n",
      "Compiling ppdsp.trees.parse-model\n",
      "Compiling ppdsp.utils.complex-numbers\n",
      "Compiling ppdsp.utils.matrices\n",
      "Compiling ppdsp.utils.moving-average\n",
      "Compiling ppdsp.utils.random\n",
      "Compiling ppdsp.utils.stats\n",
      "Compiling ppdsp.utils.timing\n",
      "Compiling ppdsp.utils\n",
      "Created /home/beakerx/ppdsp/target/jvm/uberjar/ppdsp-0.1.0-SNAPSHOT.jar\n",
      "Created /home/beakerx/ppdsp/target/jvm/uberjar/ppdsp-0.1.0-SNAPSHOT-standalone.jar\n",
      "\n"
     ]
    }
   ],
   "source": [
    "%%bash\n",
    "lein uberjar"
   ]
  },
  {
   "cell_type": "code",
   "execution_count": 7,
   "metadata": {},
   "outputs": [
    {
     "data": {
      "text/plain": [
       "null"
      ]
     },
     "execution_count": 7,
     "metadata": {},
     "output_type": "execute_result"
    }
   ],
   "source": [
    " %classpath add jar ../target/jvm/uberjar/ppdsp-0.1.0-SNAPSHOT-standalone.jar\n",
    "(clojure.lang.Compiler/loadFile \"jupyter_helpers.clj\")\n",
    "(require '[clojure.string :as string]\n",
    "         '[clojure.data.csv :as csv]\n",
    "         ;;'[incanter core io charts stats]\n",
    "         ;'[incanter.core :only [to-matrix]]\n",
    "        ;; '[incanter.io :as inio]\n",
    "         ;;'[incanter.charts :as incharts]\n",
    "        ;; '[incanter.stats :as instats ]\n",
    "          ;[clojure.math.numeric-tower :refer [sqrt expt]]\n",
    "         '[clojure.java.io :as io]\n",
    "         '[clojure.pprint :refer [pprint print-table]]\n",
    "         '[jupyter-helpers :refer [save-data load-data display-table ;testing\n",
    "                                  ;; display-masking-error-plots  \n",
    "                                  ;; attack-strategy-comparison-plots \n",
    "                                   ;;noise-accuracy-plot accuracy-privacy-tradeoff-comparison\n",
    "                                  ;; display-html accuracy-privacy-tradeoff-legend\n",
    "                                   ;accuracy-privacy-tradeoff attack-strategy-comparison\n",
    "                                   round-known-record-counts\n",
    "                                   ;;added by Waruni\n",
    "                                    read-data run-masking-experiments-cycles     accuracy-updating-cycles   \n",
    "                                     save-data-append-newline  ;;accuracy-for-flat-areas \n",
    "                                   attack-per-cycle\n",
    "                                   ]]\n",
    "         '[ppdsp.classifier.moa-classifier :refer [hoeffding-tree ]]    ;;changed\n",
    "         '[ppdsp.dataset.base :refer [dataset-feature-count dataset-record-count dataset-class-count get-schema]]\n",
    "         '[ppdsp.dataset.csv-dataset :refer [read-csv-dataset]]\n",
    "         '[ppdsp.masking.evaluation :refer [flatten-masking-experiment-recoveries\n",
    "                                           unknown-record-relative-position\n",
    "                                           add-combined-result\n",
    "                                           get-cumulative-noise-sigma  calculate-avarage-information-loss \n",
    "                                            get-attack-count\n",
    "                                               ]]\n",
    "         '[ppdsp.utils :refer [map-vals mean]])\n",
    "(use '(incanter core optimize charts))\n"
   ]
  },
  {
   "cell_type": "markdown",
   "metadata": {},
   "source": [
    "## Experiment Configuration"
   ]
  },
  {
   "cell_type": "code",
   "execution_count": 8,
   "metadata": {},
   "outputs": [
    {
     "data": {
      "text/plain": [
       "#'beaker_clojure_shell_df8f0f9f-ea4f-41b3-bcdf-0adffcb522c2/dataset-label"
      ]
     },
     "execution_count": 8,
     "metadata": {},
     "output_type": "execute_result"
    }
   ],
   "source": [
    "(def dataset-label \"arem\")"
   ]
  },
  {
   "cell_type": "markdown",
   "metadata": {},
   "source": [
    "## Run Experiments"
   ]
  },
  {
   "cell_type": "code",
   "execution_count": 14,
   "metadata": {
    "scrolled": true
   },
   "outputs": [
    {
     "ename": "clojure.lang.ExceptionInfo",
     "evalue": " Dimension out of range",
     "output_type": "error",
     "traceback": [
      "\u001b[1;31mclojure.lang.ExceptionInfo: Dimension out of range: -1 {}\u001b[0;0m",
      "\u001b[1;31m\tat clojure.core$ex_info.invokeStatic(core.clj:4739)\u001b[0;0m",
      "\u001b[1;31m\tat clojure.core$ex_info.invoke(core.clj:4739)\u001b[0;0m",
      "\u001b[1;31m\tat clojure.core.matrix.impl.defaults$fn__8353.invokeStatic(defaults.cljc:2398)\u001b[0;0m",
      "\u001b[1;31m\tat clojure.core.matrix.impl.defaults$fn__8353.invoke(defaults.cljc:2389)\u001b[0;0m",
      "\u001b[1;31m\tat clojure.core.matrix.protocols$fn__4968$G__4963__4975.invoke(protocols.cljc:1203)\u001b[0;0m",
      "\u001b[1;31m\tat clojure.core.matrix.impl.defaults$fn__8357.invokeStatic(defaults.cljc:2407)\u001b[0;0m",
      "\u001b[1;31m\tat clojure.core.matrix.impl.defaults$fn__8357.invoke(defaults.cljc:2400)\u001b[0;0m",
      "\u001b[1;31m\tat clojure.core.matrix.protocols$fn__5016$G__4998__5021.invoke(protocols.cljc:1208)\u001b[0;0m",
      "\u001b[1;31m\tat clojure.core.matrix.dataset$column_names.invokeStatic(dataset.cljc:123)\u001b[0;0m",
      "\u001b[1;31m\tat clojure.core.matrix.dataset$column_names.invoke(dataset.cljc:117)\u001b[0;0m",
      "\u001b[1;31m\tat incanter.core$to_matrix.invokeStatic(core.clj:2404)\u001b[0;0m",
      "\u001b[1;31m\tat incanter.core$to_matrix.doInvoke(core.clj:2391)\u001b[0;0m",
      "\u001b[1;31m\tat clojure.lang.RestFn.invoke(RestFn.java:410)\u001b[0;0m",
      "\u001b[1;31m\tat clojure.lang.AFn.applyToHelper(AFn.java:154)\u001b[0;0m",
      "\u001b[1;31m\tat clojure.lang.RestFn.applyTo(RestFn.java:132)\u001b[0;0m",
      "\u001b[1;31m\tat clojure.lang.Compiler$InvokeExpr.eval(Compiler.java:3695)\u001b[0;0m",
      "\u001b[1;31m\tat clojure.lang.Compiler$DefExpr.eval(Compiler.java:457)\u001b[0;0m",
      "\u001b[1;31m\tat clojure.lang.Compiler.eval(Compiler.java:7067)\u001b[0;0m",
      "\u001b[1;31m\tat clojure.lang.Compiler.load(Compiler.java:7514)\u001b[0;0m",
      "\u001b[1;31m\tat clojure.lang.Compiler.load(Compiler.java:7461)\u001b[0;0m",
      "\u001b[1;31m\tat clojure.core$load_reader.invokeStatic(core.clj:4053)\u001b[0;0m",
      "\u001b[1;31m\tat clojure.core$load_string.invokeStatic(core.clj:4055)\u001b[0;0m",
      "\u001b[1;31m\tat clojure.core$load_string.invoke(core.clj:4055)\u001b[0;0m",
      "\u001b[1;31m\tat beaker_clojure_shell_df8f0f9f_ea4f_41b3_bcdf_0adffcb522c2$run_str_df8f0f9f_ea4f_41b3_bcdf_0adffcb522c2.invokeStatic(Unknown Source)\u001b[0;0m",
      "\u001b[1;31m\tat beaker_clojure_shell_df8f0f9f_ea4f_41b3_bcdf_0adffcb522c2$run_str_df8f0f9f_ea4f_41b3_bcdf_0adffcb522c2.invoke(Unknown Source)\u001b[0;0m",
      "\u001b[1;31m\tat clojure.lang.Var.invoke(Var.java:381)\u001b[0;0m",
      "\u001b[0;31m\tat com.twosigma.beakerx.clojure.evaluator.ClojureEvaluator.runCode(ClojureEvaluator.java:168)\u001b[0;0m",
      "\u001b[0;31m\tat com.twosigma.beakerx.clojure.evaluator.ClojureCodeRunner.call(ClojureCodeRunner.java:47)\u001b[0;0m",
      "\u001b[0;31m\tat com.twosigma.beakerx.clojure.evaluator.ClojureCodeRunner.call(ClojureCodeRunner.java:28)\u001b[0;0m",
      "\u001b[0;31m\tat java.util.concurrent.FutureTask.run(FutureTask.java:266)\u001b[0;0m",
      "\u001b[0;31m\tat java.lang.Thread.run(Thread.java:745)\u001b[0;0m"
     ]
    }
   ],
   "source": [
    ";;;;;;;;;;;;;;;;;;;Read Data from existing csv files \n",
    ";(def privacy-breach (to-matrix (load-data (str \"workspace/\" dataset-label \"/final-breach-probabilities.csv\"))))\n",
    "(def accuracy (to-matrix (load-data (str \"workspace/\" dataset-label \"/masked-AEL.csv\"))))\n",
    "\n",
    "\n",
    ";;;;;;;;;;;;;;;;;;\n",
    ";(def data (to-matrix (get-dataset :chwirut)))\n",
    ";(println (get-dataset :chwirut))\n",
    ";(def x (sel data :cols 1))\n",
    ";(def y (sel data :cols 0))\n",
    ";(def plot (scatter-plot x y :legend true))\n",
    "\n",
    ";(defn f [theta x]\n",
    " ; (let [[b1 b2 b3] theta]\n",
    "   ; (let [[b c] theta]\n",
    "      ;(div (exp (mult (minus b1) x)) (plus b2 (mult b3 x)))\n",
    "      ;(exp (div (minus x b1) (mult x b2) ))\n",
    "    ; (exp (div (mmult 2 (sq (minus x b1))) (mult (* b2 b2) 2)))\n",
    "   ;)\n",
    ";)\n",
    ";(println (nrow x))\n",
    ";(def start1 [1 2 0.02])  ; \n",
    ";(add-lines plot x (f start1 x))\n",
    ";(def nlm1 (non-linear-model f y x start1))\n",
    ";(println (:coefs nlm1))\n",
    ";(add-lines plot x (:fitted nlm1))\n",
    ";(println nlm1)\n",
    ";(view plot)"
   ]
  },
  {
   "cell_type": "code",
   "execution_count": null,
   "metadata": {},
   "outputs": [],
   "source": [
    "\n",
    "       \n"
   ]
  },
  {
   "cell_type": "code",
   "execution_count": 9,
   "metadata": {},
   "outputs": [
    {
     "data": {
      "text/plain": [
       "#'beaker_clojure_shell_e4557b0b-9ecd-4d69-9c9e-4695b7aba92e/acc-after-masking-logistic"
      ]
     },
     "execution_count": 9,
     "metadata": {},
     "output_type": "execute_result"
    }
   ],
   "source": [
    ";;Accuracy per sample for logistic noise\n",
    "(def accuracy-cycles-outputfile-logistic (str \"workspace/\" dataset-label \"/logistic-accuracy-per-cycle.edn\"))\n",
    "(def details-outputfile-logistic (str \"workspace/\" dataset-label \"/logistic-accuracy-details.edn\"))\n",
    "(def full-cycle 1000)\n",
    "(def access-result-list-logistic (nth results-cumulative-logistic 0)) ;;nth is used to access elements of lists\n",
    " (def acc-after-masking-logistic (-> access-result-list-logistic :accuracy :hdt :raw-results )) ;;getting only accuracy results\n",
    " \n",
    "\n",
    "       ;;(accuracy-updating-cycles acc-after-masking-logistic accuracy-cycles-outputfile-logistic record-count full-cycle details-outputfile-logistic)"
   ]
  },
  {
   "cell_type": "code",
   "execution_count": 16,
   "metadata": {},
   "outputs": [
    {
     "ename": "java.io.FileNotFoundException",
     "evalue": " workspace/arem/logistic-accuracy-details.edn (No such file or directory)",
     "output_type": "error",
     "traceback": [
      "\u001b[1;31mjava.io.FileNotFoundException: workspace/arem/logistic-accuracy-details.edn (No such file or directory)\u001b[0;0m",
      "\u001b[1;31m\tat java.io.FileInputStream.open0(Native Method)\u001b[0;0m",
      "\u001b[1;31m\tat java.io.FileInputStream.open(FileInputStream.java:195)\u001b[0;0m",
      "\u001b[1;31m\tat java.io.FileInputStream.<init>(FileInputStream.java:138)\u001b[0;0m",
      "\u001b[1;31m\tat clojure.java.io$fn__10968.invokeStatic(io.clj:229)\u001b[0;0m",
      "\u001b[1;31m\tat clojure.java.io$fn__10968.invoke(io.clj:229)\u001b[0;0m",
      "\u001b[1;31m\tat clojure.java.io$fn__10881$G__10874__10888.invoke(io.clj:69)\u001b[0;0m",
      "\u001b[1;31m\tat clojure.java.io$fn__10980.invokeStatic(io.clj:258)\u001b[0;0m",
      "\u001b[1;31m\tat clojure.java.io$fn__10980.invoke(io.clj:254)\u001b[0;0m",
      "\u001b[1;31m\tat clojure.java.io$fn__10881$G__10874__10888.invoke(io.clj:69)\u001b[0;0m",
      "\u001b[1;31m\tat clojure.java.io$fn__10942.invokeStatic(io.clj:165)\u001b[0;0m",
      "\u001b[1;31m\tat clojure.java.io$fn__10942.invoke(io.clj:165)\u001b[0;0m",
      "\u001b[1;31m\tat clojure.java.io$fn__10894$G__10870__10901.invoke(io.clj:69)\u001b[0;0m",
      "\u001b[1;31m\tat clojure.java.io$reader.invokeStatic(io.clj:102)\u001b[0;0m",
      "\u001b[1;31m\tat clojure.java.io$reader.doInvoke(io.clj:86)\u001b[0;0m",
      "\u001b[1;31m\tat clojure.lang.RestFn.invoke(RestFn.java:410)\u001b[0;0m",
      "\u001b[1;31m\tat jupyter_helpers$load_data.invokeStatic(jupyter_helpers.clj:81)\u001b[0;0m",
      "\u001b[1;31m\tat jupyter_helpers$load_data.invoke(jupyter_helpers.clj:79)\u001b[0;0m",
      "\u001b[1;31m\tat clojure.lang.AFn.applyToHelper(AFn.java:154)\u001b[0;0m",
      "\u001b[1;31m\tat clojure.lang.AFn.applyTo(AFn.java:144)\u001b[0;0m",
      "\u001b[1;31m\tat clojure.lang.Compiler$InvokeExpr.eval(Compiler.java:3695)\u001b[0;0m",
      "\u001b[1;31m\tat clojure.lang.Compiler$DefExpr.eval(Compiler.java:457)\u001b[0;0m",
      "\u001b[1;31m\tat clojure.lang.Compiler.eval(Compiler.java:7067)\u001b[0;0m",
      "\u001b[1;31m\tat clojure.lang.Compiler.load(Compiler.java:7514)\u001b[0;0m",
      "\u001b[1;31m\tat clojure.lang.Compiler.load(Compiler.java:7461)\u001b[0;0m",
      "\u001b[1;31m\tat clojure.core$load_reader.invokeStatic(core.clj:4053)\u001b[0;0m",
      "\u001b[1;31m\tat clojure.core$load_string.invokeStatic(core.clj:4055)\u001b[0;0m",
      "\u001b[1;31m\tat clojure.core$load_string.invoke(core.clj:4055)\u001b[0;0m",
      "\u001b[1;31m\tat beaker_clojure_shell_23e4d944_a124_4fb2_92e2_c6028b05c2dd$run_str_23e4d944_a124_4fb2_92e2_c6028b05c2dd.invokeStatic(Unknown Source)\u001b[0;0m",
      "\u001b[1;31m\tat beaker_clojure_shell_23e4d944_a124_4fb2_92e2_c6028b05c2dd$run_str_23e4d944_a124_4fb2_92e2_c6028b05c2dd.invoke(Unknown Source)\u001b[0;0m",
      "\u001b[1;31m\tat clojure.lang.Var.invoke(Var.java:381)\u001b[0;0m",
      "\u001b[0;31m\tat com.twosigma.beakerx.clojure.evaluator.ClojureEvaluator.runCode(ClojureEvaluator.java:168)\u001b[0;0m",
      "\u001b[0;31m\tat com.twosigma.beakerx.clojure.evaluator.ClojureCodeRunner.call(ClojureCodeRunner.java:47)\u001b[0;0m",
      "\u001b[0;31m\tat com.twosigma.beakerx.clojure.evaluator.ClojureCodeRunner.call(ClojureCodeRunner.java:28)\u001b[0;0m",
      "\u001b[0;31m\tat java.util.concurrent.FutureTask.run(FutureTask.java:266)\u001b[0;0m",
      "\u001b[0;31m\tat java.lang.Thread.run(Thread.java:745)\u001b[0;0m"
     ]
    }
   ],
   "source": [
    ";;Average Accuracy for the attacked cycle period (Starting flat period of the logistic cycle)\n",
    "(def accuracy-details-file (load-data (str \"workspace/\" dataset-label \"/logistic-accuracy-details.edn\"))) ;;reading accuracy details from previously written file\n",
    "(def accuracy-for-attcked-period-file (str \"workspace/\" dataset-label \"/logistic-accuracy-attacked-period.csv\")) ;; write file of relavant accuracy details\n",
    "(def accuracy-details  (-> accuracy-details-file :sample-accuracy ))  \n",
    "(def full-cycle 1000)\n",
    "(def flat-record-length (:flat-record-length logistic-cumulative-noise-configuration))\n",
    "       (accuracy-for-flat-areas accuracy-details full-cycle flat-record-length record-count accuracy-for-attcked-period-file)\n"
   ]
  },
  {
   "cell_type": "code",
   "execution_count": 17,
   "metadata": {},
   "outputs": [
    {
     "ename": "java.io.FileNotFoundException",
     "evalue": " workspace/arem/logistic-attacks-per-cycle.edn (No such file or directory)",
     "output_type": "error",
     "traceback": [
      "\u001b[1;31mjava.io.FileNotFoundException: workspace/arem/logistic-attacks-per-cycle.edn (No such file or directory)\u001b[0;0m",
      "\u001b[1;31m\tat java.io.FileInputStream.open0(Native Method)\u001b[0;0m",
      "\u001b[1;31m\tat java.io.FileInputStream.open(FileInputStream.java:195)\u001b[0;0m",
      "\u001b[1;31m\tat java.io.FileInputStream.<init>(FileInputStream.java:138)\u001b[0;0m",
      "\u001b[1;31m\tat clojure.java.io$fn__10968.invokeStatic(io.clj:229)\u001b[0;0m",
      "\u001b[1;31m\tat clojure.java.io$fn__10968.invoke(io.clj:229)\u001b[0;0m",
      "\u001b[1;31m\tat clojure.java.io$fn__10881$G__10874__10888.invoke(io.clj:69)\u001b[0;0m",
      "\u001b[1;31m\tat clojure.java.io$fn__10980.invokeStatic(io.clj:258)\u001b[0;0m",
      "\u001b[1;31m\tat clojure.java.io$fn__10980.invoke(io.clj:254)\u001b[0;0m",
      "\u001b[1;31m\tat clojure.java.io$fn__10881$G__10874__10888.invoke(io.clj:69)\u001b[0;0m",
      "\u001b[1;31m\tat clojure.java.io$fn__10942.invokeStatic(io.clj:165)\u001b[0;0m",
      "\u001b[1;31m\tat clojure.java.io$fn__10942.invoke(io.clj:165)\u001b[0;0m",
      "\u001b[1;31m\tat clojure.java.io$fn__10894$G__10870__10901.invoke(io.clj:69)\u001b[0;0m",
      "\u001b[1;31m\tat clojure.java.io$reader.invokeStatic(io.clj:102)\u001b[0;0m",
      "\u001b[1;31m\tat clojure.java.io$reader.doInvoke(io.clj:86)\u001b[0;0m",
      "\u001b[1;31m\tat clojure.lang.RestFn.invoke(RestFn.java:410)\u001b[0;0m",
      "\u001b[1;31m\tat jupyter_helpers$load_data.invokeStatic(jupyter_helpers.clj:81)\u001b[0;0m",
      "\u001b[1;31m\tat jupyter_helpers$load_data.invoke(jupyter_helpers.clj:79)\u001b[0;0m",
      "\u001b[1;31m\tat clojure.lang.AFn.applyToHelper(AFn.java:154)\u001b[0;0m",
      "\u001b[1;31m\tat clojure.lang.AFn.applyTo(AFn.java:144)\u001b[0;0m",
      "\u001b[1;31m\tat clojure.lang.Compiler$InvokeExpr.eval(Compiler.java:3695)\u001b[0;0m",
      "\u001b[1;31m\tat clojure.lang.Compiler$DefExpr.eval(Compiler.java:457)\u001b[0;0m",
      "\u001b[1;31m\tat clojure.lang.Compiler.eval(Compiler.java:7067)\u001b[0;0m",
      "\u001b[1;31m\tat clojure.lang.Compiler.load(Compiler.java:7514)\u001b[0;0m",
      "\u001b[1;31m\tat clojure.lang.Compiler.load(Compiler.java:7461)\u001b[0;0m",
      "\u001b[1;31m\tat clojure.core$load_reader.invokeStatic(core.clj:4053)\u001b[0;0m",
      "\u001b[1;31m\tat clojure.core$load_string.invokeStatic(core.clj:4055)\u001b[0;0m",
      "\u001b[1;31m\tat clojure.core$load_string.invoke(core.clj:4055)\u001b[0;0m",
      "\u001b[1;31m\tat beaker_clojure_shell_23e4d944_a124_4fb2_92e2_c6028b05c2dd$run_str_23e4d944_a124_4fb2_92e2_c6028b05c2dd.invokeStatic(Unknown Source)\u001b[0;0m",
      "\u001b[1;31m\tat beaker_clojure_shell_23e4d944_a124_4fb2_92e2_c6028b05c2dd$run_str_23e4d944_a124_4fb2_92e2_c6028b05c2dd.invoke(Unknown Source)\u001b[0;0m",
      "\u001b[1;31m\tat clojure.lang.Var.invoke(Var.java:381)\u001b[0;0m",
      "\u001b[0;31m\tat com.twosigma.beakerx.clojure.evaluator.ClojureEvaluator.runCode(ClojureEvaluator.java:168)\u001b[0;0m",
      "\u001b[0;31m\tat com.twosigma.beakerx.clojure.evaluator.ClojureCodeRunner.call(ClojureCodeRunner.java:47)\u001b[0;0m",
      "\u001b[0;31m\tat com.twosigma.beakerx.clojure.evaluator.ClojureCodeRunner.call(ClojureCodeRunner.java:28)\u001b[0;0m",
      "\u001b[0;31m\tat java.util.concurrent.FutureTask.run(FutureTask.java:266)\u001b[0;0m",
      "\u001b[0;31m\tat java.lang.Thread.run(Thread.java:745)\u001b[0;0m"
     ]
    }
   ],
   "source": [
    "(def get-breach-probabilty (load-data (str \"workspace/\" dataset-label \"/logistic-attacks-per-cycle.edn\"))) ;;get the final breach probability written in the file\n",
    "(save-data-append-newline (str \"workspace/\" dataset-label \"/logistic-breach-probability.csv\") get-breach-probabilty) ;;append the value to another file for the operations after 100 runs"
   ]
  },
  {
   "cell_type": "markdown",
   "metadata": {},
   "source": [
    "## Comparison of Attack Strategies"
   ]
  },
  {
   "cell_type": "code",
   "execution_count": 18,
   "metadata": {
    "scrolled": false
   },
   "outputs": [
    {
     "ename": "java.lang.RuntimeException",
     "evalue": " Unable to resolve symbol",
     "output_type": "error",
     "traceback": [
      "\u001b[1;31mjava.lang.RuntimeException: Unable to resolve symbol: display-html in this context\u001b[0;0m",
      "\u001b[1;31m\tat clojure.lang.Util.runtimeException(Util.java:221)\u001b[0;0m",
      "\u001b[1;31m\tat clojure.lang.Compiler.resolveIn(Compiler.java:7299)\u001b[0;0m",
      "\u001b[1;31m\tat clojure.lang.Compiler.resolve(Compiler.java:7243)\u001b[0;0m",
      "\u001b[1;31m\tat clojure.lang.Compiler.analyzeSymbol(Compiler.java:7204)\u001b[0;0m",
      "\u001b[1;31m\tat clojure.lang.Compiler.analyze(Compiler.java:6752)\u001b[0;0m",
      "\u001b[1;31m\tat clojure.lang.Compiler.analyze(Compiler.java:6729)\u001b[0;0m",
      "\u001b[1;31m\tat clojure.lang.Compiler$InvokeExpr.parse(Compiler.java:3813)\u001b[0;0m",
      "\u001b[1;31m\tat clojure.lang.Compiler.analyzeSeq(Compiler.java:7005)\u001b[0;0m",
      "\u001b[1;31m\tat clojure.lang.Compiler.analyze(Compiler.java:6773)\u001b[0;0m",
      "\u001b[1;31m\tat clojure.lang.Compiler.analyze(Compiler.java:6729)\u001b[0;0m",
      "\u001b[1;31m\tat clojure.lang.Compiler$BodyExpr$Parser.parse(Compiler.java:6100)\u001b[0;0m",
      "\u001b[1;31m\tat clojure.lang.Compiler.analyzeSeq(Compiler.java:7003)\u001b[0;0m",
      "\u001b[1;31m\tat clojure.lang.Compiler.analyze(Compiler.java:6773)\u001b[0;0m",
      "\u001b[1;31m\tat clojure.lang.Compiler.analyze(Compiler.java:6729)\u001b[0;0m",
      "\u001b[1;31m\tat clojure.lang.Compiler$BodyExpr$Parser.parse(Compiler.java:6100)\u001b[0;0m",
      "\u001b[1;31m\tat clojure.lang.Compiler$LetExpr$Parser.parse(Compiler.java:6420)\u001b[0;0m",
      "\u001b[1;31m\tat clojure.lang.Compiler.analyzeSeq(Compiler.java:7003)\u001b[0;0m",
      "\u001b[1;31m\tat clojure.lang.Compiler.analyze(Compiler.java:6773)\u001b[0;0m",
      "\u001b[1;31m\tat clojure.lang.Compiler.analyzeSeq(Compiler.java:6991)\u001b[0;0m",
      "\u001b[1;31m\tat clojure.lang.Compiler.analyze(Compiler.java:6773)\u001b[0;0m",
      "\u001b[1;31m\tat clojure.lang.Compiler.analyze(Compiler.java:6729)\u001b[0;0m",
      "\u001b[1;31m\tat clojure.lang.Compiler$IfExpr$Parser.parse(Compiler.java:2822)\u001b[0;0m",
      "\u001b[1;31m\tat clojure.lang.Compiler.analyzeSeq(Compiler.java:7003)\u001b[0;0m",
      "\u001b[1;31m\tat clojure.lang.Compiler.analyze(Compiler.java:6773)\u001b[0;0m",
      "\u001b[1;31m\tat clojure.lang.Compiler.analyze(Compiler.java:6729)\u001b[0;0m",
      "\u001b[1;31m\tat clojure.lang.Compiler$BodyExpr$Parser.parse(Compiler.java:6100)\u001b[0;0m",
      "\u001b[1;31m\tat clojure.lang.Compiler$LetExpr$Parser.parse(Compiler.java:6420)\u001b[0;0m",
      "\u001b[1;31m\tat clojure.lang.Compiler.analyzeSeq(Compiler.java:7003)\u001b[0;0m",
      "\u001b[1;31m\tat clojure.lang.Compiler.analyze(Compiler.java:6773)\u001b[0;0m",
      "\u001b[1;31m\tat clojure.lang.Compiler.analyzeSeq(Compiler.java:6991)\u001b[0;0m",
      "\u001b[1;31m\tat clojure.lang.Compiler.analyze(Compiler.java:6773)\u001b[0;0m",
      "\u001b[1;31m\tat clojure.lang.Compiler.analyze(Compiler.java:6729)\u001b[0;0m",
      "\u001b[1;31m\tat clojure.lang.Compiler$BodyExpr$Parser.parse(Compiler.java:6100)\u001b[0;0m",
      "\u001b[1;31m\tat clojure.lang.Compiler$LetExpr$Parser.parse(Compiler.java:6420)\u001b[0;0m",
      "\u001b[1;31m\tat clojure.lang.Compiler.analyzeSeq(Compiler.java:7003)\u001b[0;0m",
      "\u001b[1;31m\tat clojure.lang.Compiler.analyze(Compiler.java:6773)\u001b[0;0m",
      "\u001b[1;31m\tat clojure.lang.Compiler.analyzeSeq(Compiler.java:6991)\u001b[0;0m",
      "\u001b[1;31m\tat clojure.lang.Compiler.analyze(Compiler.java:6773)\u001b[0;0m",
      "\u001b[1;31m\tat clojure.lang.Compiler.analyze(Compiler.java:6729)\u001b[0;0m",
      "\u001b[1;31m\tat clojure.lang.Compiler$IfExpr$Parser.parse(Compiler.java:2822)\u001b[0;0m",
      "\u001b[1;31m\tat clojure.lang.Compiler.analyzeSeq(Compiler.java:7003)\u001b[0;0m",
      "\u001b[1;31m\tat clojure.lang.Compiler.analyze(Compiler.java:6773)\u001b[0;0m",
      "\u001b[1;31m\tat clojure.lang.Compiler.analyze(Compiler.java:6729)\u001b[0;0m",
      "\u001b[1;31m\tat clojure.lang.Compiler$BodyExpr$Parser.parse(Compiler.java:6100)\u001b[0;0m",
      "\u001b[1;31m\tat clojure.lang.Compiler$LetExpr$Parser.parse(Compiler.java:6420)\u001b[0;0m",
      "\u001b[1;31m\tat clojure.lang.Compiler.analyzeSeq(Compiler.java:7003)\u001b[0;0m",
      "\u001b[1;31m\tat clojure.lang.Compiler.analyze(Compiler.java:6773)\u001b[0;0m",
      "\u001b[1;31m\tat clojure.lang.Compiler.analyze(Compiler.java:6729)\u001b[0;0m",
      "\u001b[1;31m\tat clojure.lang.Compiler$BodyExpr$Parser.parse(Compiler.java:6100)\u001b[0;0m",
      "\u001b[1;31m\tat clojure.lang.Compiler$FnMethod.parse(Compiler.java:5460)\u001b[0;0m",
      "\u001b[1;31m\tat clojure.lang.Compiler$FnExpr.parse(Compiler.java:4022)\u001b[0;0m",
      "\u001b[1;31m\tat clojure.lang.Compiler.analyzeSeq(Compiler.java:7001)\u001b[0;0m",
      "\u001b[1;31m\tat clojure.lang.Compiler.analyze(Compiler.java:6773)\u001b[0;0m",
      "\u001b[1;31m\tat clojure.lang.Compiler.eval(Compiler.java:7059)\u001b[0;0m",
      "\u001b[1;31m\tat clojure.lang.Compiler.load(Compiler.java:7514)\u001b[0;0m",
      "\u001b[1;31m\tat clojure.lang.Compiler.load(Compiler.java:7461)\u001b[0;0m",
      "\u001b[1;31m\tat clojure.core$load_reader.invokeStatic(core.clj:4053)\u001b[0;0m",
      "\u001b[1;31m\tat clojure.core$load_string.invokeStatic(core.clj:4055)\u001b[0;0m",
      "\u001b[1;31m\tat clojure.core$load_string.invoke(core.clj:4055)\u001b[0;0m",
      "\u001b[1;31m\tat beaker_clojure_shell_23e4d944_a124_4fb2_92e2_c6028b05c2dd$run_str_23e4d944_a124_4fb2_92e2_c6028b05c2dd.invokeStatic(Unknown Source)\u001b[0;0m",
      "\u001b[1;31m\tat beaker_clojure_shell_23e4d944_a124_4fb2_92e2_c6028b05c2dd$run_str_23e4d944_a124_4fb2_92e2_c6028b05c2dd.invoke(Unknown Source)\u001b[0;0m",
      "\u001b[1;31m\tat clojure.lang.Var.invoke(Var.java:381)\u001b[0;0m",
      "\u001b[0;31m\tat com.twosigma.beakerx.clojure.evaluator.ClojureEvaluator.runCode(ClojureEvaluator.java:168)\u001b[0;0m",
      "\u001b[0;31m\tat com.twosigma.beakerx.clojure.evaluator.ClojureCodeRunner.call(ClojureCodeRunner.java:47)\u001b[0;0m",
      "\u001b[0;31m\tat com.twosigma.beakerx.clojure.evaluator.ClojureCodeRunner.call(ClojureCodeRunner.java:28)\u001b[0;0m",
      "\u001b[0;31m\tat java.util.concurrent.FutureTask.run(FutureTask.java:266)\u001b[0;0m",
      "\u001b[0;31m\tat java.lang.Thread.run(Thread.java:745)\u001b[0;0m"
     ]
    }
   ],
   "source": [
    "(doseq [epsilon epsilons cycles cycle-sizes]\n",
    "    (display-html (str \"<h3>Logistic Cumulative Noise With Cycles\" \"</h3>\" \"<h3>Epsilon = \" epsilon \"</h3>\" \"<h3>Cycle Size = \" (* cycles 2 )\"</h3>\" ))\n",
    "    (.display (attack-strategy-comparison-plots flat-results-cumulative-logistic :all epsilon\n",
    "                                              :plot-width 400\n",
    "                                              :plot-height 400\n",
    "                                              :show-legend? true))\n",
    "    (display-html (str \"<h4>Breakdown by noise amount</h4>\"))\n",
    "    (.display (attack-strategy-comparison-plots flat-results-cumulative-logistic :cumulative-noise-sigma epsilon\n",
    "                                                :plot-width 400\n",
    "                                                :plot-height 400\n",
    "                                                :show-legend? false)))"
   ]
  },
  {
   "cell_type": "code",
   "execution_count": 19,
   "metadata": {},
   "outputs": [
    {
     "ename": "java.lang.RuntimeException",
     "evalue": " Unable to resolve symbol",
     "output_type": "error",
     "traceback": [
      "\u001b[1;31mjava.lang.RuntimeException: Unable to resolve symbol: attack-strategy-comparison in this context\u001b[0;0m",
      "\u001b[1;31m\tat clojure.lang.Util.runtimeException(Util.java:221)\u001b[0;0m",
      "\u001b[1;31m\tat clojure.lang.Compiler.resolveIn(Compiler.java:7299)\u001b[0;0m",
      "\u001b[1;31m\tat clojure.lang.Compiler.resolve(Compiler.java:7243)\u001b[0;0m",
      "\u001b[1;31m\tat clojure.lang.Compiler.analyzeSymbol(Compiler.java:7204)\u001b[0;0m",
      "\u001b[1;31m\tat clojure.lang.Compiler.analyze(Compiler.java:6752)\u001b[0;0m",
      "\u001b[1;31m\tat clojure.lang.Compiler.analyze(Compiler.java:6729)\u001b[0;0m",
      "\u001b[1;31m\tat clojure.lang.Compiler$InvokeExpr.parse(Compiler.java:3813)\u001b[0;0m",
      "\u001b[1;31m\tat clojure.lang.Compiler.analyzeSeq(Compiler.java:7005)\u001b[0;0m",
      "\u001b[1;31m\tat clojure.lang.Compiler.analyze(Compiler.java:6773)\u001b[0;0m",
      "\u001b[1;31m\tat clojure.lang.Compiler.access$300(Compiler.java:38)\u001b[0;0m",
      "\u001b[1;31m\tat clojure.lang.Compiler$LetExpr$Parser.parse(Compiler.java:6368)\u001b[0;0m",
      "\u001b[1;31m\tat clojure.lang.Compiler.analyzeSeq(Compiler.java:7003)\u001b[0;0m",
      "\u001b[1;31m\tat clojure.lang.Compiler.analyze(Compiler.java:6773)\u001b[0;0m",
      "\u001b[1;31m\tat clojure.lang.Compiler.analyze(Compiler.java:6729)\u001b[0;0m",
      "\u001b[1;31m\tat clojure.lang.Compiler$BodyExpr$Parser.parse(Compiler.java:6100)\u001b[0;0m",
      "\u001b[1;31m\tat clojure.lang.Compiler$FnMethod.parse(Compiler.java:5460)\u001b[0;0m",
      "\u001b[1;31m\tat clojure.lang.Compiler$FnExpr.parse(Compiler.java:4022)\u001b[0;0m",
      "\u001b[1;31m\tat clojure.lang.Compiler.analyzeSeq(Compiler.java:7001)\u001b[0;0m",
      "\u001b[1;31m\tat clojure.lang.Compiler.analyze(Compiler.java:6773)\u001b[0;0m",
      "\u001b[1;31m\tat clojure.lang.Compiler.eval(Compiler.java:7059)\u001b[0;0m",
      "\u001b[1;31m\tat clojure.lang.Compiler.load(Compiler.java:7514)\u001b[0;0m",
      "\u001b[1;31m\tat clojure.lang.Compiler.load(Compiler.java:7461)\u001b[0;0m",
      "\u001b[1;31m\tat clojure.core$load_reader.invokeStatic(core.clj:4053)\u001b[0;0m",
      "\u001b[1;31m\tat clojure.core$load_string.invokeStatic(core.clj:4055)\u001b[0;0m",
      "\u001b[1;31m\tat clojure.core$load_string.invoke(core.clj:4055)\u001b[0;0m",
      "\u001b[1;31m\tat beaker_clojure_shell_23e4d944_a124_4fb2_92e2_c6028b05c2dd$run_str_23e4d944_a124_4fb2_92e2_c6028b05c2dd.invokeStatic(Unknown Source)\u001b[0;0m",
      "\u001b[1;31m\tat beaker_clojure_shell_23e4d944_a124_4fb2_92e2_c6028b05c2dd$run_str_23e4d944_a124_4fb2_92e2_c6028b05c2dd.invoke(Unknown Source)\u001b[0;0m",
      "\u001b[1;31m\tat clojure.lang.Var.invoke(Var.java:381)\u001b[0;0m",
      "\u001b[0;31m\tat com.twosigma.beakerx.clojure.evaluator.ClojureEvaluator.runCode(ClojureEvaluator.java:168)\u001b[0;0m",
      "\u001b[0;31m\tat com.twosigma.beakerx.clojure.evaluator.ClojureCodeRunner.call(ClojureCodeRunner.java:47)\u001b[0;0m",
      "\u001b[0;31m\tat com.twosigma.beakerx.clojure.evaluator.ClojureCodeRunner.call(ClojureCodeRunner.java:28)\u001b[0;0m",
      "\u001b[0;31m\tat java.util.concurrent.FutureTask.run(FutureTask.java:266)\u001b[0;0m",
      "\u001b[0;31m\tat java.lang.Thread.run(Thread.java:745)\u001b[0;0m"
     ]
    }
   ],
   "source": [
    "(let [comparison (attack-strategy-comparison flat-results-cumulative-cycles epsilons\n",
    "                                  :known-record-count (apply max (:known-record-counts base-configuration)))]\n",
    "    (save-data (str \"workspace/\" dataset-label \"/cumulative-cycles-attack-strategies-comparison.edn\") comparison)\n",
    "    (display-table comparison))"
   ]
  },
  {
   "cell_type": "code",
   "execution_count": 20,
   "metadata": {},
   "outputs": [
    {
     "ename": "java.lang.RuntimeException",
     "evalue": " Unable to resolve symbol",
     "output_type": "error",
     "traceback": [
      "\u001b[1;31mjava.lang.RuntimeException: Unable to resolve symbol: attack-strategy-comparison in this context\u001b[0;0m",
      "\u001b[1;31m\tat clojure.lang.Util.runtimeException(Util.java:221)\u001b[0;0m",
      "\u001b[1;31m\tat clojure.lang.Compiler.resolveIn(Compiler.java:7299)\u001b[0;0m",
      "\u001b[1;31m\tat clojure.lang.Compiler.resolve(Compiler.java:7243)\u001b[0;0m",
      "\u001b[1;31m\tat clojure.lang.Compiler.analyzeSymbol(Compiler.java:7204)\u001b[0;0m",
      "\u001b[1;31m\tat clojure.lang.Compiler.analyze(Compiler.java:6752)\u001b[0;0m",
      "\u001b[1;31m\tat clojure.lang.Compiler.analyze(Compiler.java:6729)\u001b[0;0m",
      "\u001b[1;31m\tat clojure.lang.Compiler$InvokeExpr.parse(Compiler.java:3813)\u001b[0;0m",
      "\u001b[1;31m\tat clojure.lang.Compiler.analyzeSeq(Compiler.java:7005)\u001b[0;0m",
      "\u001b[1;31m\tat clojure.lang.Compiler.analyze(Compiler.java:6773)\u001b[0;0m",
      "\u001b[1;31m\tat clojure.lang.Compiler.access$300(Compiler.java:38)\u001b[0;0m",
      "\u001b[1;31m\tat clojure.lang.Compiler$LetExpr$Parser.parse(Compiler.java:6368)\u001b[0;0m",
      "\u001b[1;31m\tat clojure.lang.Compiler.analyzeSeq(Compiler.java:7003)\u001b[0;0m",
      "\u001b[1;31m\tat clojure.lang.Compiler.analyze(Compiler.java:6773)\u001b[0;0m",
      "\u001b[1;31m\tat clojure.lang.Compiler.analyze(Compiler.java:6729)\u001b[0;0m",
      "\u001b[1;31m\tat clojure.lang.Compiler$BodyExpr$Parser.parse(Compiler.java:6100)\u001b[0;0m",
      "\u001b[1;31m\tat clojure.lang.Compiler$FnMethod.parse(Compiler.java:5460)\u001b[0;0m",
      "\u001b[1;31m\tat clojure.lang.Compiler$FnExpr.parse(Compiler.java:4022)\u001b[0;0m",
      "\u001b[1;31m\tat clojure.lang.Compiler.analyzeSeq(Compiler.java:7001)\u001b[0;0m",
      "\u001b[1;31m\tat clojure.lang.Compiler.analyze(Compiler.java:6773)\u001b[0;0m",
      "\u001b[1;31m\tat clojure.lang.Compiler.eval(Compiler.java:7059)\u001b[0;0m",
      "\u001b[1;31m\tat clojure.lang.Compiler.load(Compiler.java:7514)\u001b[0;0m",
      "\u001b[1;31m\tat clojure.lang.Compiler.load(Compiler.java:7461)\u001b[0;0m",
      "\u001b[1;31m\tat clojure.core$load_reader.invokeStatic(core.clj:4053)\u001b[0;0m",
      "\u001b[1;31m\tat clojure.core$load_string.invokeStatic(core.clj:4055)\u001b[0;0m",
      "\u001b[1;31m\tat clojure.core$load_string.invoke(core.clj:4055)\u001b[0;0m",
      "\u001b[1;31m\tat beaker_clojure_shell_23e4d944_a124_4fb2_92e2_c6028b05c2dd$run_str_23e4d944_a124_4fb2_92e2_c6028b05c2dd.invokeStatic(Unknown Source)\u001b[0;0m",
      "\u001b[1;31m\tat beaker_clojure_shell_23e4d944_a124_4fb2_92e2_c6028b05c2dd$run_str_23e4d944_a124_4fb2_92e2_c6028b05c2dd.invoke(Unknown Source)\u001b[0;0m",
      "\u001b[1;31m\tat clojure.lang.Var.invoke(Var.java:381)\u001b[0;0m",
      "\u001b[0;31m\tat com.twosigma.beakerx.clojure.evaluator.ClojureEvaluator.runCode(ClojureEvaluator.java:168)\u001b[0;0m",
      "\u001b[0;31m\tat com.twosigma.beakerx.clojure.evaluator.ClojureCodeRunner.call(ClojureCodeRunner.java:47)\u001b[0;0m",
      "\u001b[0;31m\tat com.twosigma.beakerx.clojure.evaluator.ClojureCodeRunner.call(ClojureCodeRunner.java:28)\u001b[0;0m",
      "\u001b[0;31m\tat java.util.concurrent.FutureTask.run(FutureTask.java:266)\u001b[0;0m",
      "\u001b[0;31m\tat java.lang.Thread.run(Thread.java:745)\u001b[0;0m"
     ]
    }
   ],
   "source": [
    "(let [comparison (attack-strategy-comparison flat-results-cumulative-logistic epsilons\n",
    "                                  :known-record-count (apply max (:known-record-counts base-configuration)))]\n",
    "    (save-data (str \"workspace/\" dataset-label \"/logistic-attack-strategies-comparison.edn\") comparison)\n",
    "    (display-table comparison))\n"
   ]
  },
  {
   "cell_type": "code",
   "execution_count": 21,
   "metadata": {},
   "outputs": [
    {
     "data": {
      "text/plain": [
       "#'beaker_clojure_shell_23e4d944-a124-4fb2-92e2-c6028b05c2dd/best-logistic-attack-strategy"
      ]
     },
     "execution_count": 21,
     "metadata": {},
     "output_type": "execute_result"
    }
   ],
   "source": [
    ";;(def best-cumulative-attack-strategy :a-rpcn-1)\n",
    "(def best-cumulative-cycles-attack-strategy :a-rpcn-1)\n",
    "(def best-logistic-attack-strategy :a-rpcn-1)"
   ]
  },
  {
   "cell_type": "markdown",
   "metadata": {},
   "source": [
    "##Linear Cumulative vs.Logistic Cumulative Noise"
   ]
  },
  {
   "cell_type": "code",
   "execution_count": 22,
   "metadata": {},
   "outputs": [
    {
     "ename": "java.lang.RuntimeException",
     "evalue": " Unable to resolve symbol",
     "output_type": "error",
     "traceback": [
      "\u001b[1;31mjava.lang.RuntimeException: Unable to resolve symbol: display-html in this context\u001b[0;0m",
      "\u001b[1;31m\tat clojure.lang.Util.runtimeException(Util.java:221)\u001b[0;0m",
      "\u001b[1;31m\tat clojure.lang.Compiler.resolveIn(Compiler.java:7299)\u001b[0;0m",
      "\u001b[1;31m\tat clojure.lang.Compiler.resolve(Compiler.java:7243)\u001b[0;0m",
      "\u001b[1;31m\tat clojure.lang.Compiler.analyzeSymbol(Compiler.java:7204)\u001b[0;0m",
      "\u001b[1;31m\tat clojure.lang.Compiler.analyze(Compiler.java:6752)\u001b[0;0m",
      "\u001b[1;31m\tat clojure.lang.Compiler.analyze(Compiler.java:6729)\u001b[0;0m",
      "\u001b[1;31m\tat clojure.lang.Compiler$InvokeExpr.parse(Compiler.java:3813)\u001b[0;0m",
      "\u001b[1;31m\tat clojure.lang.Compiler.analyzeSeq(Compiler.java:7005)\u001b[0;0m",
      "\u001b[1;31m\tat clojure.lang.Compiler.analyze(Compiler.java:6773)\u001b[0;0m",
      "\u001b[1;31m\tat clojure.lang.Compiler.analyze(Compiler.java:6729)\u001b[0;0m",
      "\u001b[1;31m\tat clojure.lang.Compiler$BodyExpr$Parser.parse(Compiler.java:6100)\u001b[0;0m",
      "\u001b[1;31m\tat clojure.lang.Compiler$FnMethod.parse(Compiler.java:5460)\u001b[0;0m",
      "\u001b[1;31m\tat clojure.lang.Compiler$FnExpr.parse(Compiler.java:4022)\u001b[0;0m",
      "\u001b[1;31m\tat clojure.lang.Compiler.analyzeSeq(Compiler.java:7001)\u001b[0;0m",
      "\u001b[1;31m\tat clojure.lang.Compiler.analyze(Compiler.java:6773)\u001b[0;0m",
      "\u001b[1;31m\tat clojure.lang.Compiler.eval(Compiler.java:7059)\u001b[0;0m",
      "\u001b[1;31m\tat clojure.lang.Compiler.load(Compiler.java:7514)\u001b[0;0m",
      "\u001b[1;31m\tat clojure.lang.Compiler.load(Compiler.java:7461)\u001b[0;0m",
      "\u001b[1;31m\tat clojure.core$load_reader.invokeStatic(core.clj:4053)\u001b[0;0m",
      "\u001b[1;31m\tat clojure.core$load_string.invokeStatic(core.clj:4055)\u001b[0;0m",
      "\u001b[1;31m\tat clojure.core$load_string.invoke(core.clj:4055)\u001b[0;0m",
      "\u001b[1;31m\tat beaker_clojure_shell_23e4d944_a124_4fb2_92e2_c6028b05c2dd$run_str_23e4d944_a124_4fb2_92e2_c6028b05c2dd.invokeStatic(Unknown Source)\u001b[0;0m",
      "\u001b[1;31m\tat beaker_clojure_shell_23e4d944_a124_4fb2_92e2_c6028b05c2dd$run_str_23e4d944_a124_4fb2_92e2_c6028b05c2dd.invoke(Unknown Source)\u001b[0;0m",
      "\u001b[1;31m\tat clojure.lang.Var.invoke(Var.java:381)\u001b[0;0m",
      "\u001b[0;31m\tat com.twosigma.beakerx.clojure.evaluator.ClojureEvaluator.runCode(ClojureEvaluator.java:168)\u001b[0;0m",
      "\u001b[0;31m\tat com.twosigma.beakerx.clojure.evaluator.ClojureCodeRunner.call(ClojureCodeRunner.java:47)\u001b[0;0m",
      "\u001b[0;31m\tat com.twosigma.beakerx.clojure.evaluator.ClojureCodeRunner.call(ClojureCodeRunner.java:28)\u001b[0;0m",
      "\u001b[0;31m\tat java.util.concurrent.FutureTask.run(FutureTask.java:266)\u001b[0;0m",
      "\u001b[0;31m\tat java.lang.Thread.run(Thread.java:745)\u001b[0;0m"
     ]
    }
   ],
   "source": [
    "(display-html (accuracy-privacy-tradeoff-legend cumulative-noise-sigmas))\n",
    "nil"
   ]
  },
  {
   "cell_type": "code",
   "execution_count": 23,
   "metadata": {},
   "outputs": [
    {
     "ename": "java.lang.RuntimeException",
     "evalue": " Unable to resolve symbol",
     "output_type": "error",
     "traceback": [
      "\u001b[1;31mjava.lang.RuntimeException: Unable to resolve symbol: accuracy-privacy-tradeoff-comparison in this context\u001b[0;0m",
      "\u001b[1;31m\tat clojure.lang.Util.runtimeException(Util.java:221)\u001b[0;0m",
      "\u001b[1;31m\tat clojure.lang.Compiler.resolveIn(Compiler.java:7299)\u001b[0;0m",
      "\u001b[1;31m\tat clojure.lang.Compiler.resolve(Compiler.java:7243)\u001b[0;0m",
      "\u001b[1;31m\tat clojure.lang.Compiler.analyzeSymbol(Compiler.java:7204)\u001b[0;0m",
      "\u001b[1;31m\tat clojure.lang.Compiler.analyze(Compiler.java:6752)\u001b[0;0m",
      "\u001b[1;31m\tat clojure.lang.Compiler.analyze(Compiler.java:6729)\u001b[0;0m",
      "\u001b[1;31m\tat clojure.lang.Compiler$InvokeExpr.parse(Compiler.java:3813)\u001b[0;0m",
      "\u001b[1;31m\tat clojure.lang.Compiler.analyzeSeq(Compiler.java:7005)\u001b[0;0m",
      "\u001b[1;31m\tat clojure.lang.Compiler.analyze(Compiler.java:6773)\u001b[0;0m",
      "\u001b[1;31m\tat clojure.lang.Compiler.analyze(Compiler.java:6729)\u001b[0;0m",
      "\u001b[1;31m\tat clojure.lang.Compiler$HostExpr$Parser.parse(Compiler.java:986)\u001b[0;0m",
      "\u001b[1;31m\tat clojure.lang.Compiler.analyzeSeq(Compiler.java:7003)\u001b[0;0m",
      "\u001b[1;31m\tat clojure.lang.Compiler.analyze(Compiler.java:6773)\u001b[0;0m",
      "\u001b[1;31m\tat clojure.lang.Compiler.analyzeSeq(Compiler.java:6991)\u001b[0;0m",
      "\u001b[1;31m\tat clojure.lang.Compiler.analyze(Compiler.java:6773)\u001b[0;0m",
      "\u001b[1;31m\tat clojure.lang.Compiler.analyze(Compiler.java:6729)\u001b[0;0m",
      "\u001b[1;31m\tat clojure.lang.Compiler$BodyExpr$Parser.parse(Compiler.java:6100)\u001b[0;0m",
      "\u001b[1;31m\tat clojure.lang.Compiler.analyzeSeq(Compiler.java:7003)\u001b[0;0m",
      "\u001b[1;31m\tat clojure.lang.Compiler.analyze(Compiler.java:6773)\u001b[0;0m",
      "\u001b[1;31m\tat clojure.lang.Compiler.analyze(Compiler.java:6729)\u001b[0;0m",
      "\u001b[1;31m\tat clojure.lang.Compiler$BodyExpr$Parser.parse(Compiler.java:6100)\u001b[0;0m",
      "\u001b[1;31m\tat clojure.lang.Compiler$LetExpr$Parser.parse(Compiler.java:6420)\u001b[0;0m",
      "\u001b[1;31m\tat clojure.lang.Compiler.analyzeSeq(Compiler.java:7003)\u001b[0;0m",
      "\u001b[1;31m\tat clojure.lang.Compiler.analyze(Compiler.java:6773)\u001b[0;0m",
      "\u001b[1;31m\tat clojure.lang.Compiler.analyzeSeq(Compiler.java:6991)\u001b[0;0m",
      "\u001b[1;31m\tat clojure.lang.Compiler.analyze(Compiler.java:6773)\u001b[0;0m",
      "\u001b[1;31m\tat clojure.lang.Compiler.analyze(Compiler.java:6729)\u001b[0;0m",
      "\u001b[1;31m\tat clojure.lang.Compiler$IfExpr$Parser.parse(Compiler.java:2822)\u001b[0;0m",
      "\u001b[1;31m\tat clojure.lang.Compiler.analyzeSeq(Compiler.java:7003)\u001b[0;0m",
      "\u001b[1;31m\tat clojure.lang.Compiler.analyze(Compiler.java:6773)\u001b[0;0m",
      "\u001b[1;31m\tat clojure.lang.Compiler.analyze(Compiler.java:6729)\u001b[0;0m",
      "\u001b[1;31m\tat clojure.lang.Compiler$BodyExpr$Parser.parse(Compiler.java:6100)\u001b[0;0m",
      "\u001b[1;31m\tat clojure.lang.Compiler$LetExpr$Parser.parse(Compiler.java:6420)\u001b[0;0m",
      "\u001b[1;31m\tat clojure.lang.Compiler.analyzeSeq(Compiler.java:7003)\u001b[0;0m",
      "\u001b[1;31m\tat clojure.lang.Compiler.analyze(Compiler.java:6773)\u001b[0;0m",
      "\u001b[1;31m\tat clojure.lang.Compiler.analyze(Compiler.java:6729)\u001b[0;0m",
      "\u001b[1;31m\tat clojure.lang.Compiler$BodyExpr$Parser.parse(Compiler.java:6100)\u001b[0;0m",
      "\u001b[1;31m\tat clojure.lang.Compiler$FnMethod.parse(Compiler.java:5460)\u001b[0;0m",
      "\u001b[1;31m\tat clojure.lang.Compiler$FnExpr.parse(Compiler.java:4022)\u001b[0;0m",
      "\u001b[1;31m\tat clojure.lang.Compiler.analyzeSeq(Compiler.java:7001)\u001b[0;0m",
      "\u001b[1;31m\tat clojure.lang.Compiler.analyze(Compiler.java:6773)\u001b[0;0m",
      "\u001b[1;31m\tat clojure.lang.Compiler.eval(Compiler.java:7059)\u001b[0;0m",
      "\u001b[1;31m\tat clojure.lang.Compiler.load(Compiler.java:7514)\u001b[0;0m",
      "\u001b[1;31m\tat clojure.lang.Compiler.load(Compiler.java:7461)\u001b[0;0m",
      "\u001b[1;31m\tat clojure.core$load_reader.invokeStatic(core.clj:4053)\u001b[0;0m",
      "\u001b[1;31m\tat clojure.core$load_string.invokeStatic(core.clj:4055)\u001b[0;0m",
      "\u001b[1;31m\tat clojure.core$load_string.invoke(core.clj:4055)\u001b[0;0m",
      "\u001b[1;31m\tat beaker_clojure_shell_23e4d944_a124_4fb2_92e2_c6028b05c2dd$run_str_23e4d944_a124_4fb2_92e2_c6028b05c2dd.invokeStatic(Unknown Source)\u001b[0;0m",
      "\u001b[1;31m\tat beaker_clojure_shell_23e4d944_a124_4fb2_92e2_c6028b05c2dd$run_str_23e4d944_a124_4fb2_92e2_c6028b05c2dd.invoke(Unknown Source)\u001b[0;0m",
      "\u001b[1;31m\tat clojure.lang.Var.invoke(Var.java:381)\u001b[0;0m",
      "\u001b[0;31m\tat com.twosigma.beakerx.clojure.evaluator.ClojureEvaluator.runCode(ClojureEvaluator.java:168)\u001b[0;0m",
      "\u001b[0;31m\tat com.twosigma.beakerx.clojure.evaluator.ClojureCodeRunner.call(ClojureCodeRunner.java:47)\u001b[0;0m",
      "\u001b[0;31m\tat com.twosigma.beakerx.clojure.evaluator.ClojureCodeRunner.call(ClojureCodeRunner.java:28)\u001b[0;0m",
      "\u001b[0;31m\tat java.util.concurrent.FutureTask.run(FutureTask.java:266)\u001b[0;0m",
      "\u001b[0;31m\tat java.lang.Thread.run(Thread.java:745)\u001b[0;0m"
     ]
    }
   ],
   "source": [
    "(doseq [epsilon epsilons]\n",
    "    (.display (accuracy-privacy-tradeoff-comparison  results-cumulative-cycles results-cumulative-logistic ;;results-cumulative\n",
    "                                                    :arf  best-cumulative-cycles-attack-strategy best-logistic-attack-strategy epsilon  ;;best-cumulative-attack-strategy\n",
    "                                                    :plot-width 400\n",
    "                                                    :plot-height 400)))"
   ]
  },
  {
   "cell_type": "markdown",
   "metadata": {},
   "source": [
    "### Comparison of Square Distance From Origin\n",
    "\n",
    "Performance is the sum of the squares of: (1) Prob. of e-privacy breach and (2) classification error."
   ]
  },
  {
   "cell_type": "code",
   "execution_count": 24,
   "metadata": {},
   "outputs": [
    {
     "ename": "java.lang.RuntimeException",
     "evalue": " Unable to resolve symbol",
     "output_type": "error",
     "traceback": [
      "\u001b[1;31mjava.lang.RuntimeException: Unable to resolve symbol: accuracy-privacy-tradeoff in this context\u001b[0;0m",
      "\u001b[1;31m\tat clojure.lang.Util.runtimeException(Util.java:221)\u001b[0;0m",
      "\u001b[1;31m\tat clojure.lang.Compiler.resolveIn(Compiler.java:7299)\u001b[0;0m",
      "\u001b[1;31m\tat clojure.lang.Compiler.resolve(Compiler.java:7243)\u001b[0;0m",
      "\u001b[1;31m\tat clojure.lang.Compiler.analyzeSymbol(Compiler.java:7204)\u001b[0;0m",
      "\u001b[1;31m\tat clojure.lang.Compiler.analyze(Compiler.java:6752)\u001b[0;0m",
      "\u001b[1;31m\tat clojure.lang.Compiler.analyze(Compiler.java:6729)\u001b[0;0m",
      "\u001b[1;31m\tat clojure.lang.Compiler$InvokeExpr.parse(Compiler.java:3813)\u001b[0;0m",
      "\u001b[1;31m\tat clojure.lang.Compiler.analyzeSeq(Compiler.java:7005)\u001b[0;0m",
      "\u001b[1;31m\tat clojure.lang.Compiler.analyze(Compiler.java:6773)\u001b[0;0m",
      "\u001b[1;31m\tat clojure.lang.Compiler.access$300(Compiler.java:38)\u001b[0;0m",
      "\u001b[1;31m\tat clojure.lang.Compiler$LetExpr$Parser.parse(Compiler.java:6368)\u001b[0;0m",
      "\u001b[1;31m\tat clojure.lang.Compiler.analyzeSeq(Compiler.java:7003)\u001b[0;0m",
      "\u001b[1;31m\tat clojure.lang.Compiler.analyze(Compiler.java:6773)\u001b[0;0m",
      "\u001b[1;31m\tat clojure.lang.Compiler.analyze(Compiler.java:6729)\u001b[0;0m",
      "\u001b[1;31m\tat clojure.lang.Compiler$BodyExpr$Parser.parse(Compiler.java:6100)\u001b[0;0m",
      "\u001b[1;31m\tat clojure.lang.Compiler$FnMethod.parse(Compiler.java:5460)\u001b[0;0m",
      "\u001b[1;31m\tat clojure.lang.Compiler$FnExpr.parse(Compiler.java:4022)\u001b[0;0m",
      "\u001b[1;31m\tat clojure.lang.Compiler.analyzeSeq(Compiler.java:7001)\u001b[0;0m",
      "\u001b[1;31m\tat clojure.lang.Compiler.analyze(Compiler.java:6773)\u001b[0;0m",
      "\u001b[1;31m\tat clojure.lang.Compiler.eval(Compiler.java:7059)\u001b[0;0m",
      "\u001b[1;31m\tat clojure.lang.Compiler.load(Compiler.java:7514)\u001b[0;0m",
      "\u001b[1;31m\tat clojure.lang.Compiler.load(Compiler.java:7461)\u001b[0;0m",
      "\u001b[1;31m\tat clojure.core$load_reader.invokeStatic(core.clj:4053)\u001b[0;0m",
      "\u001b[1;31m\tat clojure.core$load_string.invokeStatic(core.clj:4055)\u001b[0;0m",
      "\u001b[1;31m\tat clojure.core$load_string.invoke(core.clj:4055)\u001b[0;0m",
      "\u001b[1;31m\tat beaker_clojure_shell_23e4d944_a124_4fb2_92e2_c6028b05c2dd$run_str_23e4d944_a124_4fb2_92e2_c6028b05c2dd.invokeStatic(Unknown Source)\u001b[0;0m",
      "\u001b[1;31m\tat beaker_clojure_shell_23e4d944_a124_4fb2_92e2_c6028b05c2dd$run_str_23e4d944_a124_4fb2_92e2_c6028b05c2dd.invoke(Unknown Source)\u001b[0;0m",
      "\u001b[1;31m\tat clojure.lang.Var.invoke(Var.java:381)\u001b[0;0m",
      "\u001b[0;31m\tat com.twosigma.beakerx.clojure.evaluator.ClojureEvaluator.runCode(ClojureEvaluator.java:168)\u001b[0;0m",
      "\u001b[0;31m\tat com.twosigma.beakerx.clojure.evaluator.ClojureCodeRunner.call(ClojureCodeRunner.java:47)\u001b[0;0m",
      "\u001b[0;31m\tat com.twosigma.beakerx.clojure.evaluator.ClojureCodeRunner.call(ClojureCodeRunner.java:28)\u001b[0;0m",
      "\u001b[0;31m\tat java.util.concurrent.FutureTask.run(FutureTask.java:266)\u001b[0;0m",
      "\u001b[0;31m\tat java.lang.Thread.run(Thread.java:745)\u001b[0;0m"
     ]
    }
   ],
   "source": [
    "(let [comparison (accuracy-privacy-tradeoff  results-cumulative-cycles results-cumulative-logistic ;;results-cumulative\n",
    "                               :arf  best-cumulative-cycles-attack-strategy best-logistic-attack-strategy epsilons ;;best-cumulative-attack-strategy\n",
    "                               :square-distance? true\n",
    "                               :row-per-noise-level? true\n",
    "                               :known-record-count (apply max (:known-record-counts base-configuration))\n",
    "                                           )]\n",
    "    (save-data (str \"workspace/\" dataset-label \"/mask-comparison.edn\") comparison)\n",
    "    (display-table comparison))"
   ]
  },
  {
   "cell_type": "markdown",
   "metadata": {},
   "source": [
    "## Effect of Cumulative Noise on Accuracy over Time"
   ]
  },
  {
   "cell_type": "code",
   "execution_count": 25,
   "metadata": {},
   "outputs": [
    {
     "ename": "java.lang.RuntimeException",
     "evalue": " Unable to resolve symbol",
     "output_type": "error",
     "traceback": [
      "\u001b[1;31mjava.lang.RuntimeException: Unable to resolve symbol: noise-accuracy-plot in this context\u001b[0;0m",
      "\u001b[1;31m\tat clojure.lang.Util.runtimeException(Util.java:221)\u001b[0;0m",
      "\u001b[1;31m\tat clojure.lang.Compiler.resolveIn(Compiler.java:7299)\u001b[0;0m",
      "\u001b[1;31m\tat clojure.lang.Compiler.resolve(Compiler.java:7243)\u001b[0;0m",
      "\u001b[1;31m\tat clojure.lang.Compiler.analyzeSymbol(Compiler.java:7204)\u001b[0;0m",
      "\u001b[1;31m\tat clojure.lang.Compiler.analyze(Compiler.java:6752)\u001b[0;0m",
      "\u001b[1;31m\tat clojure.lang.Compiler.analyze(Compiler.java:6729)\u001b[0;0m",
      "\u001b[1;31m\tat clojure.lang.Compiler$InvokeExpr.parse(Compiler.java:3813)\u001b[0;0m",
      "\u001b[1;31m\tat clojure.lang.Compiler.analyzeSeq(Compiler.java:7005)\u001b[0;0m",
      "\u001b[1;31m\tat clojure.lang.Compiler.analyze(Compiler.java:6773)\u001b[0;0m",
      "\u001b[1;31m\tat clojure.lang.Compiler.analyze(Compiler.java:6729)\u001b[0;0m",
      "\u001b[1;31m\tat clojure.lang.Compiler$BodyExpr$Parser.parse(Compiler.java:6100)\u001b[0;0m",
      "\u001b[1;31m\tat clojure.lang.Compiler$FnMethod.parse(Compiler.java:5460)\u001b[0;0m",
      "\u001b[1;31m\tat clojure.lang.Compiler$FnExpr.parse(Compiler.java:4022)\u001b[0;0m",
      "\u001b[1;31m\tat clojure.lang.Compiler.analyzeSeq(Compiler.java:7001)\u001b[0;0m",
      "\u001b[1;31m\tat clojure.lang.Compiler.analyze(Compiler.java:6773)\u001b[0;0m",
      "\u001b[1;31m\tat clojure.lang.Compiler.eval(Compiler.java:7059)\u001b[0;0m",
      "\u001b[1;31m\tat clojure.lang.Compiler.load(Compiler.java:7514)\u001b[0;0m",
      "\u001b[1;31m\tat clojure.lang.Compiler.load(Compiler.java:7461)\u001b[0;0m",
      "\u001b[1;31m\tat clojure.core$load_reader.invokeStatic(core.clj:4053)\u001b[0;0m",
      "\u001b[1;31m\tat clojure.core$load_string.invokeStatic(core.clj:4055)\u001b[0;0m",
      "\u001b[1;31m\tat clojure.core$load_string.invoke(core.clj:4055)\u001b[0;0m",
      "\u001b[1;31m\tat beaker_clojure_shell_23e4d944_a124_4fb2_92e2_c6028b05c2dd$run_str_23e4d944_a124_4fb2_92e2_c6028b05c2dd.invokeStatic(Unknown Source)\u001b[0;0m",
      "\u001b[1;31m\tat beaker_clojure_shell_23e4d944_a124_4fb2_92e2_c6028b05c2dd$run_str_23e4d944_a124_4fb2_92e2_c6028b05c2dd.invoke(Unknown Source)\u001b[0;0m",
      "\u001b[1;31m\tat clojure.lang.Var.invoke(Var.java:381)\u001b[0;0m",
      "\u001b[0;31m\tat com.twosigma.beakerx.clojure.evaluator.ClojureEvaluator.runCode(ClojureEvaluator.java:168)\u001b[0;0m",
      "\u001b[0;31m\tat com.twosigma.beakerx.clojure.evaluator.ClojureCodeRunner.call(ClojureCodeRunner.java:47)\u001b[0;0m",
      "\u001b[0;31m\tat com.twosigma.beakerx.clojure.evaluator.ClojureCodeRunner.call(ClojureCodeRunner.java:28)\u001b[0;0m",
      "\u001b[0;31m\tat java.util.concurrent.FutureTask.run(FutureTask.java:266)\u001b[0;0m",
      "\u001b[0;31m\tat java.lang.Thread.run(Thread.java:745)\u001b[0;0m"
     ]
    }
   ],
   "source": [
    "(noise-accuracy-plot  results-cumulative-cycles results-cumulative-logistic :arf ;;results-cumulative\n",
    "                     :init-width 800\n",
    "                     :init-height 400)"
   ]
  },
  {
   "cell_type": "markdown",
   "metadata": {},
   "source": [
    "## Effect of Cumulative Noise on Privacy over Time"
   ]
  },
  {
   "cell_type": "code",
   "execution_count": 26,
   "metadata": {},
   "outputs": [
    {
     "ename": "java.lang.RuntimeException",
     "evalue": " Unable to resolve symbol",
     "output_type": "error",
     "traceback": [
      "\u001b[1;31mjava.lang.RuntimeException: Unable to resolve symbol: display-masking-error-plots in this context\u001b[0;0m",
      "\u001b[1;31m\tat clojure.lang.Util.runtimeException(Util.java:221)\u001b[0;0m",
      "\u001b[1;31m\tat clojure.lang.Compiler.resolveIn(Compiler.java:7299)\u001b[0;0m",
      "\u001b[1;31m\tat clojure.lang.Compiler.resolve(Compiler.java:7243)\u001b[0;0m",
      "\u001b[1;31m\tat clojure.lang.Compiler.analyzeSymbol(Compiler.java:7204)\u001b[0;0m",
      "\u001b[1;31m\tat clojure.lang.Compiler.analyze(Compiler.java:6752)\u001b[0;0m",
      "\u001b[1;31m\tat clojure.lang.Compiler.analyze(Compiler.java:6729)\u001b[0;0m",
      "\u001b[1;31m\tat clojure.lang.Compiler$InvokeExpr.parse(Compiler.java:3813)\u001b[0;0m",
      "\u001b[1;31m\tat clojure.lang.Compiler.analyzeSeq(Compiler.java:7005)\u001b[0;0m",
      "\u001b[1;31m\tat clojure.lang.Compiler.analyze(Compiler.java:6773)\u001b[0;0m",
      "\u001b[1;31m\tat clojure.lang.Compiler.analyze(Compiler.java:6729)\u001b[0;0m",
      "\u001b[1;31m\tat clojure.lang.Compiler$BodyExpr$Parser.parse(Compiler.java:6100)\u001b[0;0m",
      "\u001b[1;31m\tat clojure.lang.Compiler$FnMethod.parse(Compiler.java:5460)\u001b[0;0m",
      "\u001b[1;31m\tat clojure.lang.Compiler$FnExpr.parse(Compiler.java:4022)\u001b[0;0m",
      "\u001b[1;31m\tat clojure.lang.Compiler.analyzeSeq(Compiler.java:7001)\u001b[0;0m",
      "\u001b[1;31m\tat clojure.lang.Compiler.analyze(Compiler.java:6773)\u001b[0;0m",
      "\u001b[1;31m\tat clojure.lang.Compiler.eval(Compiler.java:7059)\u001b[0;0m",
      "\u001b[1;31m\tat clojure.lang.Compiler.load(Compiler.java:7514)\u001b[0;0m",
      "\u001b[1;31m\tat clojure.lang.Compiler.load(Compiler.java:7461)\u001b[0;0m",
      "\u001b[1;31m\tat clojure.core$load_reader.invokeStatic(core.clj:4053)\u001b[0;0m",
      "\u001b[1;31m\tat clojure.core$load_string.invokeStatic(core.clj:4055)\u001b[0;0m",
      "\u001b[1;31m\tat clojure.core$load_string.invoke(core.clj:4055)\u001b[0;0m",
      "\u001b[1;31m\tat beaker_clojure_shell_23e4d944_a124_4fb2_92e2_c6028b05c2dd$run_str_23e4d944_a124_4fb2_92e2_c6028b05c2dd.invokeStatic(Unknown Source)\u001b[0;0m",
      "\u001b[1;31m\tat beaker_clojure_shell_23e4d944_a124_4fb2_92e2_c6028b05c2dd$run_str_23e4d944_a124_4fb2_92e2_c6028b05c2dd.invoke(Unknown Source)\u001b[0;0m",
      "\u001b[1;31m\tat clojure.lang.Var.invoke(Var.java:381)\u001b[0;0m",
      "\u001b[0;31m\tat com.twosigma.beakerx.clojure.evaluator.ClojureEvaluator.runCode(ClojureEvaluator.java:168)\u001b[0;0m",
      "\u001b[0;31m\tat com.twosigma.beakerx.clojure.evaluator.ClojureCodeRunner.call(ClojureCodeRunner.java:47)\u001b[0;0m",
      "\u001b[0;31m\tat com.twosigma.beakerx.clojure.evaluator.ClojureCodeRunner.call(ClojureCodeRunner.java:28)\u001b[0;0m",
      "\u001b[0;31m\tat java.util.concurrent.FutureTask.run(FutureTask.java:266)\u001b[0;0m",
      "\u001b[0;31m\tat java.lang.Thread.run(Thread.java:745)\u001b[0;0m"
     ]
    }
   ],
   "source": [
    "(display-masking-error-plots (->> flat-results-cumulative-cycles\n",
    "                                  (filter #(= best-cumulative-cycles-attack-strategy (:strategy %)))\n",
    "                                  (filter #(= (apply max cumulative-noise-sigmas) (:cumulative-noise-sigma %)))\n",
    "                                  (filter #(= (apply max (:known-record-counts base-configuration)) (:known-record-count %))))\n",
    "                             :cumulative-noise-sigma :known-record-count :strategy\n",
    "                             :plot-width 500\n",
    "                             :plot-height 500)"
   ]
  },
  {
   "cell_type": "code",
   "execution_count": 27,
   "metadata": {},
   "outputs": [
    {
     "ename": "java.lang.RuntimeException",
     "evalue": " Unable to resolve symbol",
     "output_type": "error",
     "traceback": [
      "\u001b[1;31mjava.lang.RuntimeException: Unable to resolve symbol: display-masking-error-plots in this context\u001b[0;0m",
      "\u001b[1;31m\tat clojure.lang.Util.runtimeException(Util.java:221)\u001b[0;0m",
      "\u001b[1;31m\tat clojure.lang.Compiler.resolveIn(Compiler.java:7299)\u001b[0;0m",
      "\u001b[1;31m\tat clojure.lang.Compiler.resolve(Compiler.java:7243)\u001b[0;0m",
      "\u001b[1;31m\tat clojure.lang.Compiler.analyzeSymbol(Compiler.java:7204)\u001b[0;0m",
      "\u001b[1;31m\tat clojure.lang.Compiler.analyze(Compiler.java:6752)\u001b[0;0m",
      "\u001b[1;31m\tat clojure.lang.Compiler.analyze(Compiler.java:6729)\u001b[0;0m",
      "\u001b[1;31m\tat clojure.lang.Compiler$InvokeExpr.parse(Compiler.java:3813)\u001b[0;0m",
      "\u001b[1;31m\tat clojure.lang.Compiler.analyzeSeq(Compiler.java:7005)\u001b[0;0m",
      "\u001b[1;31m\tat clojure.lang.Compiler.analyze(Compiler.java:6773)\u001b[0;0m",
      "\u001b[1;31m\tat clojure.lang.Compiler.analyze(Compiler.java:6729)\u001b[0;0m",
      "\u001b[1;31m\tat clojure.lang.Compiler$BodyExpr$Parser.parse(Compiler.java:6100)\u001b[0;0m",
      "\u001b[1;31m\tat clojure.lang.Compiler$FnMethod.parse(Compiler.java:5460)\u001b[0;0m",
      "\u001b[1;31m\tat clojure.lang.Compiler$FnExpr.parse(Compiler.java:4022)\u001b[0;0m",
      "\u001b[1;31m\tat clojure.lang.Compiler.analyzeSeq(Compiler.java:7001)\u001b[0;0m",
      "\u001b[1;31m\tat clojure.lang.Compiler.analyze(Compiler.java:6773)\u001b[0;0m",
      "\u001b[1;31m\tat clojure.lang.Compiler.eval(Compiler.java:7059)\u001b[0;0m",
      "\u001b[1;31m\tat clojure.lang.Compiler.load(Compiler.java:7514)\u001b[0;0m",
      "\u001b[1;31m\tat clojure.lang.Compiler.load(Compiler.java:7461)\u001b[0;0m",
      "\u001b[1;31m\tat clojure.core$load_reader.invokeStatic(core.clj:4053)\u001b[0;0m",
      "\u001b[1;31m\tat clojure.core$load_string.invokeStatic(core.clj:4055)\u001b[0;0m",
      "\u001b[1;31m\tat clojure.core$load_string.invoke(core.clj:4055)\u001b[0;0m",
      "\u001b[1;31m\tat beaker_clojure_shell_23e4d944_a124_4fb2_92e2_c6028b05c2dd$run_str_23e4d944_a124_4fb2_92e2_c6028b05c2dd.invokeStatic(Unknown Source)\u001b[0;0m",
      "\u001b[1;31m\tat beaker_clojure_shell_23e4d944_a124_4fb2_92e2_c6028b05c2dd$run_str_23e4d944_a124_4fb2_92e2_c6028b05c2dd.invoke(Unknown Source)\u001b[0;0m",
      "\u001b[1;31m\tat clojure.lang.Var.invoke(Var.java:381)\u001b[0;0m",
      "\u001b[0;31m\tat com.twosigma.beakerx.clojure.evaluator.ClojureEvaluator.runCode(ClojureEvaluator.java:168)\u001b[0;0m",
      "\u001b[0;31m\tat com.twosigma.beakerx.clojure.evaluator.ClojureCodeRunner.call(ClojureCodeRunner.java:47)\u001b[0;0m",
      "\u001b[0;31m\tat com.twosigma.beakerx.clojure.evaluator.ClojureCodeRunner.call(ClojureCodeRunner.java:28)\u001b[0;0m",
      "\u001b[0;31m\tat java.util.concurrent.FutureTask.run(FutureTask.java:266)\u001b[0;0m",
      "\u001b[0;31m\tat java.lang.Thread.run(Thread.java:745)\u001b[0;0m"
     ]
    }
   ],
   "source": [
    "(display-masking-error-plots (->> flat-results-cumulative-logistic\n",
    "                                  (filter #(= best-logistic-attack-strategy (:strategy %)))\n",
    "                                  (filter #(= (apply max cumulative-noise-sigmas) (:cumulative-noise-sigma %)))\n",
    "                                  (filter #(= (apply max (:known-record-counts base-configuration)) (:known-record-count %))))\n",
    "                             :cumulative-noise-sigma :known-record-count :strategy\n",
    "                             :plot-width 500\n",
    "                             :plot-height 500)"
   ]
  },
  {
   "cell_type": "code",
   "execution_count": null,
   "metadata": {},
   "outputs": [],
   "source": []
  },
  {
   "cell_type": "code",
   "execution_count": null,
   "metadata": {},
   "outputs": [],
   "source": []
  },
  {
   "cell_type": "code",
   "execution_count": null,
   "metadata": {},
   "outputs": [],
   "source": []
  },
  {
   "cell_type": "code",
   "execution_count": null,
   "metadata": {},
   "outputs": [],
   "source": []
  },
  {
   "cell_type": "code",
   "execution_count": null,
   "metadata": {},
   "outputs": [],
   "source": []
  },
  {
   "cell_type": "code",
   "execution_count": null,
   "metadata": {},
   "outputs": [],
   "source": []
  }
 ],
 "metadata": {
  "kernelspec": {
   "display_name": "Clojure",
   "language": "clojure",
   "name": "clojure"
  },
  "language_info": {
   "codemirror_mode": "Clojure",
   "file_extension": ".clj",
   "mimetype": "text/x-clojure",
   "name": "Clojure",
   "nbconverter_exporter": "",
   "version": "1.9.0"
  },
  "toc": {
   "base_numbering": 1,
   "nav_menu": {},
   "number_sections": false,
   "sideBar": false,
   "skip_h1_title": false,
   "title_cell": "Table of Contents",
   "title_sidebar": "Contents",
   "toc_cell": false,
   "toc_position": {},
   "toc_section_display": false,
   "toc_window_display": false
  }
 },
 "nbformat": 4,
 "nbformat_minor": 2
}
